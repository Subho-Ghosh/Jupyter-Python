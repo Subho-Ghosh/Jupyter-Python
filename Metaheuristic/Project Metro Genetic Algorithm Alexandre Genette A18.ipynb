{
 "cells": [
  {
   "cell_type": "code",
   "execution_count": 1,
   "metadata": {},
   "outputs": [],
   "source": [
    "#LAUNCH JUPYER WITH COMMAND BELOW OR IT MAY HAVE DIFFICULTY TO EXECUTE THE CODE"
   ]
  },
  {
   "cell_type": "markdown",
   "metadata": {},
   "source": [
    "jupyter notebook --NotebookApp.iopub_data_rate_limit=10000000"
   ]
  },
  {
   "cell_type": "code",
   "execution_count": 2,
   "metadata": {},
   "outputs": [],
   "source": [
    "#LIBRARIES:\n",
    "#networkx : is a library used to create directional verteces that will be used in the Genetic Algorithm for optimization later\n",
    "#numpy : for array management\n",
    "#pandas : to load *.csv and convert data\n",
    "#time : to calculate time between iteration and global computation time\n",
    "#matplotlib.pyplot : for graphs\n",
    "#copy : for true copy of variables and arrays\n",
    "#heapq : used in main Loop in order to select best Chromosome from Genetic Algorithm iterations\n",
    "#math : for calculation"
   ]
  },
  {
   "cell_type": "code",
   "execution_count": 3,
   "metadata": {},
   "outputs": [],
   "source": [
    "import networkx as nx\n",
    "import numpy as np\n",
    "import pandas as pd\n",
    "import time\n",
    "import matplotlib.pyplot as plt\n",
    "import random\n",
    "import copy\n",
    "import heapq\n",
    "import math"
   ]
  },
  {
   "cell_type": "code",
   "execution_count": 4,
   "metadata": {},
   "outputs": [],
   "source": [
    "#ORIGINAL FILE WAS CONVERTED INTO DIFFERENT *.csv files\n",
    "#\"project.csv\" this is the table with all the connections between stations and the trip duration between\n",
    "#\"nameTable\" : table with the name of the stations and the index code seen in project.csv\n",
    "#insideParis\" : list of the stations inside paris\n",
    "#There are 376 rows in project corresponding to connections between 2 stations\n",
    "#There are 296 single name stations\n",
    "#There are 54 stations outside Paris\n",
    "#Finally, Inside Paris there 242 different stations with all a different name"
   ]
  },
  {
   "cell_type": "code",
   "execution_count": 5,
   "metadata": {},
   "outputs": [
    {
     "data": {
      "text/html": [
       "<div>\n",
       "<style scoped>\n",
       "    .dataframe tbody tr th:only-of-type {\n",
       "        vertical-align: middle;\n",
       "    }\n",
       "\n",
       "    .dataframe tbody tr th {\n",
       "        vertical-align: top;\n",
       "    }\n",
       "\n",
       "    .dataframe thead th {\n",
       "        text-align: right;\n",
       "    }\n",
       "</style>\n",
       "<table border=\"1\" class=\"dataframe\">\n",
       "  <thead>\n",
       "    <tr style=\"text-align: right;\">\n",
       "      <th></th>\n",
       "      <th>Station</th>\n",
       "      <th>Connection</th>\n",
       "      <th>Time</th>\n",
       "    </tr>\n",
       "  </thead>\n",
       "  <tbody>\n",
       "    <tr>\n",
       "      <th>930</th>\n",
       "      <td>355</td>\n",
       "      <td>354</td>\n",
       "      <td>120</td>\n",
       "    </tr>\n",
       "    <tr>\n",
       "      <th>931</th>\n",
       "      <td>366</td>\n",
       "      <td>367</td>\n",
       "      <td>120</td>\n",
       "    </tr>\n",
       "    <tr>\n",
       "      <th>932</th>\n",
       "      <td>367</td>\n",
       "      <td>366</td>\n",
       "      <td>120</td>\n",
       "    </tr>\n",
       "  </tbody>\n",
       "</table>\n",
       "</div>"
      ],
      "text/plain": [
       "     Station  Connection  Time\n",
       "930      355         354   120\n",
       "931      366         367   120\n",
       "932      367         366   120"
      ]
     },
     "execution_count": 5,
     "metadata": {},
     "output_type": "execute_result"
    }
   ],
   "source": [
    "df = pd.read_csv('C:/Projects IT/Python/Projet Metaheuristic/project_correction.csv', sep =';')\n",
    "#nameTable = pd.read_csv('C:/Projects IT/Python/Projet Metaheuristic/indexStation.csv', sep =';')\n",
    "insideParis = pd.read_csv('C:/Projects IT/Python/Projet Metaheuristic/indexStationParis_corrected.csv', sep =';')\n",
    "\n",
    "df.tail(3)"
   ]
  },
  {
   "cell_type": "code",
   "execution_count": 6,
   "metadata": {},
   "outputs": [
    {
     "data": {
      "text/html": [
       "<div>\n",
       "<style scoped>\n",
       "    .dataframe tbody tr th:only-of-type {\n",
       "        vertical-align: middle;\n",
       "    }\n",
       "\n",
       "    .dataframe tbody tr th {\n",
       "        vertical-align: top;\n",
       "    }\n",
       "\n",
       "    .dataframe thead th {\n",
       "        text-align: right;\n",
       "    }\n",
       "</style>\n",
       "<table border=\"1\" class=\"dataframe\">\n",
       "  <thead>\n",
       "    <tr style=\"text-align: right;\">\n",
       "      <th></th>\n",
       "      <th>indexStation</th>\n",
       "      <th>nameStation</th>\n",
       "      <th>NameIndex</th>\n",
       "    </tr>\n",
       "  </thead>\n",
       "  <tbody>\n",
       "    <tr>\n",
       "      <th>0</th>\n",
       "      <td>0</td>\n",
       "      <td>Abbesses</td>\n",
       "      <td>0</td>\n",
       "    </tr>\n",
       "    <tr>\n",
       "      <th>1</th>\n",
       "      <td>1</td>\n",
       "      <td>Alexandre Dumas</td>\n",
       "      <td>2</td>\n",
       "    </tr>\n",
       "    <tr>\n",
       "      <th>2</th>\n",
       "      <td>2</td>\n",
       "      <td>Alma Marceau</td>\n",
       "      <td>3</td>\n",
       "    </tr>\n",
       "  </tbody>\n",
       "</table>\n",
       "</div>"
      ],
      "text/plain": [
       "   indexStation      nameStation  NameIndex\n",
       "0             0         Abbesses          0\n",
       "1             1  Alexandre Dumas          2\n",
       "2             2     Alma Marceau          3"
      ]
     },
     "execution_count": 6,
     "metadata": {},
     "output_type": "execute_result"
    }
   ],
   "source": [
    "insideParis.head(3) #dataframe used for stations name"
   ]
  },
  {
   "cell_type": "code",
   "execution_count": 7,
   "metadata": {},
   "outputs": [],
   "source": [
    "#CREATION OF THE GRAPH with networkx, I use a Multiple directed graph, \n",
    "# it means that a node can have multiple connections with different nodes and the direction matters\n",
    "#for example 34 connect with 248 but 248 doesnt connect with 34"
   ]
  },
  {
   "cell_type": "code",
   "execution_count": 8,
   "metadata": {},
   "outputs": [],
   "source": [
    "MG = nx.MultiDiGraph()"
   ]
  },
  {
   "cell_type": "code",
   "execution_count": 9,
   "metadata": {},
   "outputs": [],
   "source": [
    "#CREATION OF THE EDGES\n",
    "#using the df table I create the edges inside the Graph named MG (see above), \n",
    "#the weight will be the Time spent between two stations"
   ]
  },
  {
   "cell_type": "code",
   "execution_count": 10,
   "metadata": {},
   "outputs": [],
   "source": [
    "for i in range(0, len(df.Station)):\n",
    "    MG.add_edge(df.Station[i], df.Connection[i], weight=df.Time[i])"
   ]
  },
  {
   "cell_type": "code",
   "execution_count": 11,
   "metadata": {},
   "outputs": [
    {
     "data": {
      "text/plain": [
       "<networkx.classes.multidigraph.MultiDiGraph at 0x23a406addd8>"
      ]
     },
     "execution_count": 11,
     "metadata": {},
     "output_type": "execute_result"
    }
   ],
   "source": [
    "MG"
   ]
  },
  {
   "cell_type": "code",
   "execution_count": 12,
   "metadata": {},
   "outputs": [],
   "source": [
    "#THE EDGES ARE REPRESENTED BY A DICTIONNARY"
   ]
  },
  {
   "cell_type": "code",
   "execution_count": 13,
   "metadata": {
    "scrolled": false
   },
   "outputs": [
    {
     "name": "stdout",
     "output_type": "stream",
     "text": [
      "{238: {0: {'weight': 41}}, 159: {0: {'weight': 46}}}\n"
     ]
    }
   ],
   "source": [
    "print(MG.adj[0])"
   ]
  },
  {
   "cell_type": "code",
   "execution_count": 14,
   "metadata": {},
   "outputs": [],
   "source": [
    "#networkx can plot a graph with connections and directions between different nodes"
   ]
  },
  {
   "cell_type": "code",
   "execution_count": 18,
   "metadata": {},
   "outputs": [
    {
     "data": {
      "image/png": "[encoded data removed]",
      "text/plain": [
       "<matplotlib.figure.Figure at 0x23a41ac52b0>"
      ]
     },
     "metadata": {},
     "output_type": "display_data"
    }
   ],
   "source": [
    "plt.figure(figsize=(12,8))\n",
    "nx.draw(MG, label=False)\n",
    "\n",
    "plt.show()"
   ]
  },
  {
   "cell_type": "code",
   "execution_count": 19,
   "metadata": {},
   "outputs": [],
   "source": [
    "#The Johnson's algorithm will give shortest paths between stations for every verteces\n",
    "#I used it because it's fast, and usable with weight and directions"
   ]
  },
  {
   "cell_type": "markdown",
   "metadata": {},
   "source": [
    "https://en.wikipedia.org/wiki/Johnson%27s_algorithm"
   ]
  },
  {
   "cell_type": "code",
   "execution_count": 20,
   "metadata": {},
   "outputs": [],
   "source": [
    "shortestMulti = nx.johnson(MG)"
   ]
  },
  {
   "cell_type": "code",
   "execution_count": 21,
   "metadata": {},
   "outputs": [
    {
     "data": {
      "text/plain": [
       "[0, 159, 147, 191, 192, 64, 14, 124, 121, 65, 342, 310, 375]"
      ]
     },
     "execution_count": 21,
     "metadata": {},
     "output_type": "execute_result"
    }
   ],
   "source": [
    "#EXAMPLE OF A SHORTEST PATH BETWEEN STATION 0 AND 375 thanks to the Johnson's Algorithm\n",
    "shortestMulti[0][375]"
   ]
  },
  {
   "cell_type": "code",
   "execution_count": 22,
   "metadata": {},
   "outputs": [],
   "source": [
    "#MAIN CLASS DEFINITION: Chromosome, it represents a set of nodes(genes).\n",
    "#******-------------------------------------------------------------------******\n",
    "#the class function __ini__ is the constructor of the class, it demands a set of stations(index)\n",
    "#----------------------------------------------------------------------------\n",
    "#the shuffleGenes is a function in order to shuffle the nodes/genes in the chromosome\n",
    "#-------------------------------------------------------------------------------\n",
    "#mutationGene : is a fuction that permits to mutate some gene in the sequence of the chromosome, thanks to a probability  Pm.\n",
    "#the function \"reads\" the chromosome from the beginning, nade after node, then a probability is done (randomly), if it is below\n",
    "#a Threshold Pm that gene will be mutated\n",
    "#Mutation adds some randomness to a chromosome and brings some variety into the population\n",
    "#---------------------------------------------------------------------------------\n",
    "#pathWay : This function creates the optimal pathway between 2 nodes using the dictionnary created with networkx (see above)\n",
    "#For example between 2 nodes (3,47) the optimal pathway calculated by Johnson's algorithm \n",
    "#will be [3, 210, 95, 292, 361, 208, 333, 334, 323, 222, 221, 74, 195, 47]\n",
    "#THE CHROMOSOME IS ENCODED LIKE THAT\n",
    "#Chromosome  = |23|45|156|176 etc..... and pathway give the optimal path from 23 to 45, 45 to 156, 156 to 176...... \n",
    "#as a numpy.array\n",
    "#This way, the Genetic Algorithm can optimize the \"genes\" and there will always be a link between stations\n",
    "#-----------------------------------------\n",
    "#__repr__ : it's a function to overload the print function for an object of Chromosome's class\n",
    "#example\n",
    "#--------------------\n",
    "#test = Chromosome([1,2,3,4,5])\n",
    "#print(test)\n",
    "#output >> Chromosome :|1|2|3|4|5|"
   ]
  },
  {
   "cell_type": "code",
   "execution_count": 23,
   "metadata": {},
   "outputs": [],
   "source": [
    "class Chromosome:\n",
    "    def __init__(self, nodes):\n",
    "        self.nodes = nodes       \n",
    "    \n",
    "    def shuffleGenes(self):\n",
    "        random.shuffle(self.nodes)   \n",
    "    \n",
    "    #Order Changing Mutation, 1 gene is selected thanks to Pm probability\n",
    "    def mutationGene(self, Pm, inParis):\n",
    "        self.inParis = inParis\n",
    "        self.Pm = Pm\n",
    "        for i in range(0, len(self.nodes)):\n",
    "            self.randMutate = random.random()\n",
    "            if self.randMutate < self.Pm:\n",
    "                self.indexMutation = random.randint(0,len(self.inParis)-1)\n",
    "                self.mutateTo = self.inParis[self.indexMutation]\n",
    "                self.nodes[i] = self.mutateTo\n",
    "\n",
    "\n",
    "    #each gene represents a shortest path between gene i and gene i+1\n",
    "    def pathWay(self, Multigraph): #Multigraph comes from the Johnson Networkx calculation for shortest path between 2 nodes\n",
    "        self.Multigraph = Multigraph\n",
    "        self.totalPath = []\n",
    "        for i in range(0, len(self.nodes)-1):        \n",
    "            if i+1 is not None:\n",
    "                self.totalPath = merge(self.totalPath, self.Multigraph[self.nodes[i]][self.nodes[i+1]])   \n",
    "        return self.totalPath       \n",
    "        \n",
    "    def __repr__(self):\n",
    "        self.strNodes = \"Chromosome :\"\n",
    "        for i in self.nodes:\n",
    "            self.node = str(i)\n",
    "            self.strNodes = self.strNodes + \"|\" + self.node\n",
    "        self.strNodes = self.strNodes + \"|\"\n",
    "        return self.strNodes"
   ]
  },
  {
   "cell_type": "code",
   "execution_count": 24,
   "metadata": {},
   "outputs": [],
   "source": [
    "#FUNCTION PathwayDuration : calculate the path time for a chromosome\n",
    "#-----------------------------------------------------------------\n",
    "#PARAMETERS :\n",
    "#chromosome : the object of class Chromosome to use\n",
    "#multipath : the Dictionary of shortest path between nodes\n",
    "#mainDataframe : dataframe with connection between stations and traveling time (here it is called \"df\")\n",
    "#Returns the total time in seconds shouldnt be > 72000 (20 hours from 5AM to 1AM)"
   ]
  },
  {
   "cell_type": "code",
   "execution_count": 25,
   "metadata": {},
   "outputs": [],
   "source": [
    "def PathwayDuration(chromosome, multipath, mainDataframe):\n",
    "    b = 0\n",
    "    for i in range(1, len(chromosome.pathWay(multipath))):\n",
    "        a = np.array(df['Time'].loc[(mainDataframe.Station == chromosome.pathWay(multipath)[i-1]) & \n",
    "                               (mainDataframe.Connection == chromosome.pathWay(multipath)[i])].values)\n",
    "        b = b + a \n",
    "    return int(b)"
   ]
  },
  {
   "cell_type": "code",
   "execution_count": 26,
   "metadata": {},
   "outputs": [],
   "source": [
    "#FUNCTION crossoverSinglePoint:\n",
    "#A function that returns 1 child chromosome from 2 parents chromosomes\n",
    "#2 chromosomes are splitted halfway then for example\n",
    "#Chrom 1 = A|B|C|D and chrom2 = E|F|G|H then we obtain : A|B + G|H\n",
    "#Child1 = A|B|G|H and if you permute chromosomes in a second call you obtain child2 = E|F|C|D"
   ]
  },
  {
   "cell_type": "code",
   "execution_count": 27,
   "metadata": {},
   "outputs": [],
   "source": [
    "def crossoverSinglePoint(chromo1, chromo2):\n",
    "    lenChromo = int(len(chromo1.nodes) / 2)\n",
    "    childrenChr = np.append(chromo1.nodes[0:lenChromo], chromo2.nodes[lenChromo:len(chromo1.nodes)])\n",
    "    return childrenChr    "
   ]
  },
  {
   "cell_type": "code",
   "execution_count": 28,
   "metadata": {},
   "outputs": [],
   "source": [
    "#FUNCTION merge:\n",
    "#works with np.array\n",
    "#function can merge 2 list where last element of one(a) is the first element of the second(b)\n",
    "#for example [1,2,3,4] + [4,5,6] = [1,2,3,4,5,6]\n",
    "#"
   ]
  },
  {
   "cell_type": "code",
   "execution_count": 29,
   "metadata": {},
   "outputs": [],
   "source": [
    "def merge(a, b): #a,b are numpy.array\n",
    "    c = a[:-1] + b[:]\n",
    "    return c    "
   ]
  },
  {
   "cell_type": "code",
   "execution_count": 30,
   "metadata": {},
   "outputs": [],
   "source": [
    "#FUNCTION NewNameFit2\n",
    "#return the score to maximize, 1 = best answer, it means that all stations with a different name, have been visited\n",
    "#There are 242 stations inside paris with a different name, I divide unique name from the list \n",
    "#of the nodes by 242,in order to obtain the score.\n",
    "#the len() is here to prevent the pathway to go beyond 1200 stations visited \n",
    "#that could take more than 20 hours to visit all\n",
    "#Remark : fitScore = 0 if there is a station visited if the length of the chromosome goes beyond 1200(too long)"
   ]
  },
  {
   "cell_type": "code",
   "execution_count": 31,
   "metadata": {},
   "outputs": [],
   "source": [
    "def NewNameFit2(uniqueNodeName, chromosome, MultiG, uniqueNodeIndex):\n",
    "    if len(chromosome.pathWay(MultiG)) < 1200:\n",
    "        NameList = np.array([])\n",
    "        for i in chromosome.pathWay(MultiG):\n",
    "            a, = np.where(uniqueNodeIndex == i)\n",
    "            NameList = np.append(NameList, uniqueNodeName[a])\n",
    "            fitScore = len(np.unique(NameList)) / 242 #number of unique station / total unique station(242)\n",
    "    else:\n",
    "        fitScore = 0 #score equals 0 if the pathway is too long\n",
    "    return fitScore"
   ]
  },
  {
   "cell_type": "code",
   "execution_count": 32,
   "metadata": {},
   "outputs": [],
   "source": [
    "#***********________________________________________******************\n",
    "#***********___MAIN LOOP OF THE GENETIC ALGORITHM___******************\n",
    "#***********________________________________________******************\n",
    "#First a population is generated, a population is a set of chromosome with a sequence of different nodes/genes for each\n",
    "#population is an array of objects of class Chromosome()\n",
    "#population will evolve at each iteration of the genetic algorithm\n",
    "#*****-----------------------------------------------------------------\n",
    "#Then, from the initial population 2(could be changed) best scores are kept, \n",
    "#and From the 10(can be changed) best candidates 18 children are created with the crossover Function according to the function :\n",
    "# ABCD and EFGH gives ABGH, EFCD,  \n",
    "#each gene can be mutated with Pm probability, \n",
    "#for example if the chromosome has a length of 100 and the probability for a gene to mutate is\n",
    "#Pm = 0.02 there will an average of 2 genes mutated, can be lower or higher depends of the value of Pm\n",
    "#***********------------------------------------------------------------\n",
    "#FINALLY, we obtain a new population composed of Chrildren Chromosome and \n",
    "#the 2 best Chromosomes from the former population and each\n",
    "#chromosome could be mutated (depending of Pm)\n",
    "#Then the new population will have a new iteration etc....."
   ]
  },
  {
   "cell_type": "code",
   "execution_count": 33,
   "metadata": {},
   "outputs": [
    {
     "name": "stdout",
     "output_type": "stream",
     "text": [
      "0.8677685950413223\n",
      "0.871900826446281\n",
      "0.871900826446281\n",
      "0.871900826446281\n",
      "0.8884297520661157\n",
      "0.8884297520661157\n",
      "0.8925619834710744\n",
      "0.8925619834710744\n",
      "0.9008264462809917\n",
      "0.9049586776859504\n",
      "0.9132231404958677\n",
      "0.9132231404958677\n",
      "0.9132231404958677\n",
      "0.9132231404958677\n",
      "0.9214876033057852\n",
      "0.9214876033057852\n",
      "0.9256198347107438\n",
      "0.9297520661157025\n",
      "0.9338842975206612\n",
      "0.9338842975206612\n",
      "0.9338842975206612\n",
      "0.9380165289256198\n",
      "0.9380165289256198\n",
      "0.9421487603305785\n",
      "0.9504132231404959\n",
      "0.9504132231404959\n",
      "0.9504132231404959\n",
      "0.9586776859504132\n",
      "0.9586776859504132\n",
      "0.9628099173553719\n",
      "0.9628099173553719\n",
      "0.9628099173553719\n",
      "0.9669421487603306\n",
      "0.9669421487603306\n",
      "0.9669421487603306\n",
      "0.9669421487603306\n",
      "0.9752066115702479\n",
      "0.9710743801652892\n",
      "0.9710743801652892\n",
      "0.9710743801652892\n",
      "0.9710743801652892\n",
      "0.9710743801652892\n",
      "0.9710743801652892\n",
      "0.9710743801652892\n",
      "0.9710743801652892\n",
      "0.9793388429752066\n",
      "0.9793388429752066\n",
      "0.9793388429752066\n",
      "0.9793388429752066\n",
      "0.9793388429752066\n",
      "0.9793388429752066\n",
      "0.9793388429752066\n",
      "0.9793388429752066\n",
      "0.9793388429752066\n",
      "0.9834710743801653\n",
      "0.9834710743801653\n",
      "0.9834710743801653\n",
      "0.9834710743801653\n",
      "0.987603305785124\n",
      "0.987603305785124\n",
      "0.987603305785124\n",
      "0.987603305785124\n",
      "0.987603305785124\n",
      "0.987603305785124\n",
      "0.987603305785124\n",
      "0.987603305785124\n",
      "0.9917355371900827\n",
      "0.987603305785124\n",
      "0.987603305785124\n",
      "0.9917355371900827\n",
      "0.9917355371900827\n",
      "0.9917355371900827\n",
      "0.9917355371900827\n",
      "0.9917355371900827\n",
      "0.9917355371900827\n",
      "0.9917355371900827\n",
      "0.9917355371900827\n",
      "0.9917355371900827\n",
      "0.9917355371900827\n",
      "0.9917355371900827\n",
      "0.9917355371900827\n",
      "0.9917355371900827\n",
      "0.9917355371900827\n",
      "0.9917355371900827\n",
      "0.9917355371900827\n",
      "0.9917355371900827\n",
      "0.9958677685950413\n",
      "0.9958677685950413\n",
      "0.9958677685950413\n",
      "0.9958677685950413\n",
      "0.9917355371900827\n",
      "Chromosome :|63|290|3|272|35|184|62|223|3|267|276|359|124|325|160|273|317|24|1|136|251|278|258|269|268|369|63|168|214|78|172|26|160|32|52|320|61|144|129|275|68|168|198|277|247|110|135|294|74|219|58|262|362|275|12|337|263|270|310|240|352|358|323|249|274|109|128|315|257|196|144|251|308|260|256|104|138|271|233|144|\n",
      "[Chromosome :|63|290|162|272|116|184|62|223|3|267|276|359|298|247|160|273|304|24|54|204|251|278|258|269|268|369|63|203|125|257|172|26|160|32|52|7|326|144|129|6|68|168|198|277|304|110|135|294|74|369|58|297|309|98|12|337|147|270|205|240|352|232|323|135|274|109|87|315|257|196|336|251|308|260|256|104|196|271|233|144|\n",
      " Chromosome :|63|290|3|272|35|184|62|223|335|267|276|359|124|325|160|273|317|24|116|240|251|278|258|269|268|369|63|168|345|223|172|26|160|32|52|320|61|144|129|275|68|83|198|277|371|78|135|294|74|369|58|368|263|98|12|337|263|270|205|240|298|358|323|135|274|109|87|315|257|196|336|251|314|260|256|104|138|196|233|144|\n",
      " Chromosome :|63|290|162|272|116|184|26|223|3|267|276|359|298|247|160|273|304|24|54|204|251|278|258|269|268|369|63|203|125|257|172|26|74|32|52|7|326|144|129|275|68|83|228|277|371|78|135|294|74|369|58|368|263|98|12|337|263|270|205|240|298|358|323|135|274|109|87|315|257|196|336|251|314|260|256|104|138|196|233|144|\n",
      " Chromosome :|63|290|3|272|35|184|62|223|227|267|276|359|124|325|160|273|317|24|116|240|251|278|258|269|268|8|63|168|345|223|172|26|160|32|52|320|61|144|129|275|68|168|198|277|304|110|135|294|74|369|58|297|362|98|12|337|60|270|205|240|352|232|323|135|274|109|87|315|257|196|336|251|308|260|256|104|196|271|233|144|\n",
      " Chromosome :|63|290|3|272|35|184|62|223|335|267|276|359|124|325|160|273|317|24|116|240|251|278|258|269|268|96|63|168|345|223|172|26|160|32|52|320|61|144|129|275|68|83|198|277|371|78|104|294|74|369|58|368|120|98|12|337|263|270|205|240|298|358|323|135|274|109|87|315|257|196|336|251|314|260|256|104|138|196|233|144|\n",
      " Chromosome :|63|290|162|272|116|184|62|223|3|267|276|359|298|247|160|273|335|24|54|204|251|278|258|269|268|369|63|203|125|257|172|26|160|32|52|5|326|144|129|275|68|83|198|277|371|78|135|294|74|369|58|368|263|98|12|337|263|270|205|240|298|358|323|135|274|109|87|315|257|196|336|251|314|260|256|104|138|196|233|144|\n",
      " Chromosome :|63|290|162|272|116|184|62|223|3|267|276|359|298|247|160|273|335|24|54|204|251|278|258|269|268|369|63|213|125|257|172|26|160|32|52|7|326|144|129|275|68|168|226|277|247|110|135|294|74|369|58|262|362|275|12|337|263|270|205|240|352|358|323|135|274|109|87|315|257|196|336|251|308|260|256|104|138|271|233|295|\n",
      " Chromosome :|63|290|162|272|139|184|62|223|3|267|276|359|298|247|160|273|335|24|54|204|251|278|258|269|268|369|63|203|290|257|172|26|160|32|52|7|326|144|129|275|68|83|198|277|371|78|268|294|350|369|58|368|120|98|12|337|263|270|205|240|298|358|323|135|274|109|87|315|257|196|336|251|314|260|256|104|138|196|233|144|\n",
      " Chromosome :|63|290|162|272|139|184|62|223|3|267|276|359|298|247|160|273|335|24|54|204|251|278|258|269|268|369|63|203|125|257|172|26|160|32|52|7|326|144|129|275|68|83|198|277|247|8|135|294|74|369|58|368|263|98|12|337|263|270|205|240|298|358|170|135|97|109|87|315|257|196|336|251|314|260|256|104|138|209|233|230|\n",
      " Chromosome :|63|290|357|54|35|184|62|223|3|267|276|359|124|325|160|273|317|24|116|204|251|278|258|269|268|143|63|168|214|291|172|26|160|32|52|320|61|144|129|275|68|168|226|277|247|110|135|294|74|369|58|262|362|275|12|337|263|145|205|240|352|358|323|135|274|109|87|315|257|196|336|251|308|260|256|104|138|271|233|144|\n",
      " Chromosome :|63|290|357|272|35|184|62|223|3|267|276|359|333|325|160|273|317|24|116|204|251|278|258|269|268|143|63|331|214|291|172|26|160|32|52|320|61|144|129|275|68|168|198|277|247|110|135|294|74|219|58|262|362|275|12|337|263|270|310|240|352|358|323|135|274|109|87|315|257|196|336|251|308|260|256|104|138|271|233|144|\n",
      " Chromosome :|63|290|3|272|35|184|62|223|3|267|276|359|124|325|160|273|317|24|116|204|251|278|258|121|268|369|63|168|214|78|172|26|160|32|52|320|61|144|129|275|68|83|198|277|247|8|135|294|74|369|58|133|263|98|12|337|263|270|205|240|298|358|170|135|274|109|87|315|257|196|336|251|314|260|256|104|138|209|233|144|\n",
      " Chromosome :|63|290|3|272|35|184|62|223|3|267|276|359|124|325|160|273|317|290|116|204|251|278|258|269|268|369|63|168|214|78|172|26|160|32|52|320|61|2|129|275|68|168|198|277|247|110|135|294|74|219|58|262|362|275|12|337|263|270|310|240|352|358|323|135|274|109|128|315|257|196|144|251|308|260|256|104|138|271|233|144|\n",
      " Chromosome :|63|290|3|272|35|184|62|223|3|140|276|359|124|325|160|273|317|24|1|136|251|278|258|269|268|369|63|168|214|78|172|26|160|32|52|320|61|144|129|275|68|168|198|277|247|110|135|294|74|219|58|262|362|275|12|337|263|270|310|240|352|358|323|135|274|109|334|315|257|196|191|251|308|260|256|104|138|271|233|144|\n",
      " Chromosome :|63|290|3|272|35|184|62|223|3|140|276|359|124|325|160|273|317|24|1|136|251|278|258|269|268|369|63|168|214|78|172|26|160|32|52|320|61|144|129|275|68|168|198|277|247|158|135|92|74|369|58|297|263|98|12|337|218|270|194|240|298|358|323|135|274|109|87|315|257|196|336|190|314|260|256|104|138|20|233|254|\n",
      " Chromosome :|63|290|3|272|35|184|62|223|3|267|276|359|124|325|160|273|317|24|1|136|251|278|258|269|268|369|63|168|214|78|172|26|160|32|52|320|61|144|129|275|68|168|198|277|247|110|135|294|74|219|58|262|362|275|12|337|263|270|310|240|352|358|323|249|274|109|128|315|257|196|144|251|308|260|256|104|138|271|233|144|\n",
      " Chromosome :|63|290|3|272|35|184|62|223|3|267|276|359|124|325|160|273|317|75|1|136|251|278|138|269|268|369|63|168|214|78|172|26|160|32|52|320|61|144|129|275|68|168|198|277|247|158|135|92|74|369|58|297|263|98|12|337|218|270|194|240|298|358|323|135|274|80|87|315|257|196|336|190|314|260|256|104|138|20|233|254|\n",
      " Chromosome :|63|290|162|272|116|184|62|223|3|267|276|359|370|247|160|273|335|24|54|204|58|278|258|269|268|369|259|203|110|257|172|26|160|32|52|7|326|144|129|275|68|168|198|277|247|158|135|92|74|369|58|297|263|98|12|337|218|270|194|240|298|358|323|135|274|109|87|315|257|196|336|190|314|260|256|104|138|20|233|254|\n",
      " Chromosome :|63|290|162|272|116|184|62|223|3|267|218|359|370|247|160|273|335|24|54|204|251|278|258|269|268|369|259|203|110|257|172|26|160|32|52|7|326|144|129|275|68|168|198|277|247|110|135|294|74|369|58|297|362|98|12|337|263|270|205|240|298|358|323|135|274|109|87|315|257|196|336|251|202|260|256|104|138|20|233|144|\n",
      " Chromosome :|63|290|162|272|116|184|62|223|3|267|276|359|370|247|160|273|335|24|54|204|251|278|258|269|268|369|259|203|110|257|115|26|160|32|52|7|326|144|129|275|68|168|198|277|247|158|135|92|74|369|58|297|263|98|12|337|218|270|194|240|298|358|323|135|274|80|87|315|257|196|336|190|314|260|256|104|138|20|233|254|]\n"
     ]
    }
   ],
   "source": [
    "#NEW ALGO split avec duplicate CROSSOVER SINGLE POINT\n",
    "#MAIN LOOP\n",
    "population = np.array([]) #initialization of the population array\n",
    "X_opti = np.array([]) #initialization of X axis for the graph\n",
    "Y_opti = np.array([]) #initialization of Y axis for the graph\n",
    "fitMax = 0\n",
    "#CREATION OF THE INITIAL POPULATION\n",
    "for i in range(0, 100):\n",
    "    tmpNode = np.random.choice(insideParis.indexStation, 80, replace=False)\n",
    "    tmpC = Chromosome(tmpNode)\n",
    "    population = np.append(population, tmpC)\n",
    "#MAIN LOOP here population evolved continuously with crossovers and mutations\n",
    "#NUMBER OF ITERATION z\n",
    "for z in range(0,200):\n",
    "    fitList = np.array([])\n",
    "    \n",
    "    #fitList = array of the score of the population\n",
    "    for i in range(0,len(population)):\n",
    "        fitList = np.append(fitList, NewNameFit2(insideParis.nameStation, population[i], shortestMulti, insideParis.indexStation))\n",
    "        if fitList[i] > fitMax:\n",
    "            fitMax = fitList[i]\n",
    "            bestSolution = population[i] #selection of the best candidate\n",
    "    if fitMax > 0.999:\n",
    "            break\n",
    "    #select the 10 best chromosomes according to their scores, \n",
    "    #the array is ordered from higher to lower score, give 18 children\n",
    "    IndexfitBest = heapq.nlargest(10, range(len(fitList)), fitList.take)\n",
    "    population_best = np.take(population, IndexfitBest)\n",
    "    \n",
    "    #initialization of the new population with 2 best scored chromosomes\n",
    "    child = np.array([population_best[0], population_best[1]]) #2 best chromosomes kept\n",
    "    \n",
    "    #Creation of the children :\n",
    "    for u in range(1, len(population_best)):\n",
    "        crossChr1 = Chromosome(crossoverSinglePoint(population_best[u-1], population_best[u]))\n",
    "        crossChr2 = Chromosome(crossoverSinglePoint(population_best[u], population_best[u-1]))\n",
    "        child = np.append(child, crossChr1)\n",
    "        child = np.append(child, crossChr2)\n",
    "    population = child\n",
    "    \n",
    "    #Mutation\n",
    "    for mutIter in range(0, len(population)-1):\n",
    "        rand = random.random()\n",
    "        if rand < 1:  #we can choose to lower the number of chromosome mutated according to rand probability\n",
    "            population[mutIter].mutationGene(0.02, insideParis.indexStation) # a mutation has 10% chance to occur\n",
    "    print(np.max(fitList)) #Print the best score of the best candidate\n",
    "    X_opti = np.append(X_opti, z) #keep track of iterations\n",
    "    Y_opti = np.append(Y_opti, np.max(fitList)) #keep track of the best score obtained\n",
    "print(bestSolution)\n",
    "print(population)\n"
   ]
  },
  {
   "cell_type": "code",
   "execution_count": 45,
   "metadata": {},
   "outputs": [
    {
     "data": {
      "image/png": "[encoded data removed]",
      "text/plain": [
       "<matplotlib.figure.Figure at 0x23a44149780>"
      ]
     },
     "metadata": {
      "needs_background": "light"
     },
     "output_type": "display_data"
    }
   ],
   "source": [
    "#Thanks to X_opti and Y_opti we can draw the graph\n",
    "#With the number of iterations on the X axis and the number of different stations visited on the Y axis\n",
    "plt.figure(figsize=(6,4))\n",
    "plt.plot(X_opti, Y_opti * 242) #Y axis = maximum name visited\n",
    "plt.ylabel('Number of station visited')\n",
    "plt.xlabel('Number of Iterations')\n",
    "plt.title('Number of unique Stations visited vs Iterations ')\n",
    "plt.show()"
   ]
  },
  {
   "cell_type": "code",
   "execution_count": null,
   "metadata": {},
   "outputs": [],
   "source": [
    "#Scores of the last iteration"
   ]
  },
  {
   "cell_type": "code",
   "execution_count": 34,
   "metadata": {},
   "outputs": [
    {
     "data": {
      "text/plain": [
       "array([0.98760331, 0.99173554, 0.98760331, 0.98347107, 0.99173554,\n",
       "       0.99173554, 0.99586777, 0.97107438, 0.97107438, 0.97933884,\n",
       "       0.99173554, 0.97933884, 0.99173554, 0.98347107, 0.98347107,\n",
       "       1.        , 0.97107438, 0.97107438, 0.95867769, 0.99173554])"
      ]
     },
     "execution_count": 34,
     "metadata": {},
     "output_type": "execute_result"
    }
   ],
   "source": [
    "fitList"
   ]
  },
  {
   "cell_type": "code",
   "execution_count": 36,
   "metadata": {},
   "outputs": [
    {
     "data": {
      "text/plain": [
       "1.0"
      ]
     },
     "execution_count": 36,
     "metadata": {},
     "output_type": "execute_result"
    }
   ],
   "source": [
    "#Score calculation of the best solution\n",
    "NewNameFit2(insideParis.nameStation, bestSolution, shortestMulti, insideParis.indexStation)"
   ]
  },
  {
   "cell_type": "code",
   "execution_count": 37,
   "metadata": {},
   "outputs": [
    {
     "name": "stdout",
     "output_type": "stream",
     "text": [
      "17.861944444444443\n"
     ]
    }
   ],
   "source": [
    "#DURATION OF THE BEST PATHWAY\n",
    "print(PathwayDuration(bestSolution,shortestMulti, df )/3600)"
   ]
  },
  {
   "cell_type": "code",
   "execution_count": 39,
   "metadata": {},
   "outputs": [
    {
     "name": "stdout",
     "output_type": "stream",
     "text": [
      "[63, 123, 122, 140, 313, 311, 7, 290, 136, 68, 70, 73, 330, 222, 323, 334, 333, 208, 361, 292, 95, 210, 3, 210, 95, 292, 361, 208, 207, 100, 321, 359, 137, 51, 202, 326, 168, 245, 153, 131, 272, 131, 153, 245, 168, 326, 202, 51, 137, 138, 158, 371, 156, 76, 111, 35, 111, 76, 156, 155, 45, 348, 232, 209, 101, 293, 96, 324, 128, 83, 243, 244, 352, 184, 352, 244, 243, 216, 62, 216, 243, 244, 164, 49, 241, 149, 345, 254, 71, 255, 228, 282, 224, 223, 289, 38, 336, 309, 310, 375, 165, 70, 73, 330, 222, 323, 334, 333, 208, 361, 292, 95, 210, 3, 210, 95, 292, 361, 208, 207, 100, 321, 359, 137, 51, 202, 326, 168, 245, 153, 39, 267, 39, 153, 245, 168, 326, 325, 353, 217, 322, 238, 0, 159, 147, 191, 194, 276, 194, 191, 147, 159, 0, 238, 322, 217, 353, 325, 326, 202, 51, 137, 359, 137, 138, 79, 177, 225, 298, 303, 32, 343, 342, 65, 121, 124, 14, 13, 5, 239, 238, 322, 217, 353, 325, 353, 217, 322, 238, 239, 5, 13, 151, 339, 142, 143, 160, 143, 340, 125, 122, 121, 65, 342, 310, 375, 165, 70, 73, 330, 222, 323, 334, 333, 208, 207, 113, 234, 249, 273, 249, 234, 113, 207, 100, 321, 359, 137, 51, 202, 203, 317, 133, 60, 59, 224, 282, 281, 69, 120, 22, 84, 24, 84, 22, 120, 119, 295, 212, 213, 12, 1, 235, 284, 211, 86, 21, 20, 129, 311, 7, 290, 136, 290, 7, 8, 309, 336, 38, 289, 223, 132, 327, 103, 367, 189, 370, 286, 264, 171, 4, 251, 4, 171, 264, 286, 370, 189, 367, 103, 327, 132, 223, 289, 38, 336, 309, 8, 350, 312, 311, 129, 20, 283, 146, 247, 357, 278, 357, 247, 146, 283, 20, 129, 311, 7, 290, 136, 68, 67, 173, 227, 356, 77, 50, 109, 127, 55, 6, 258, 6, 55, 127, 109, 50, 77, 356, 227, 173, 67, 135, 331, 16, 119, 295, 212, 215, 42, 190, 269, 190, 42, 215, 307, 58, 369, 316, 220, 315, 344, 342, 65, 121, 124, 14, 64, 192, 337, 268, 337, 192, 64, 14, 124, 121, 65, 342, 344, 315, 220, 316, 369, 316, 220, 315, 313, 140, 122, 123, 63, 123, 250, 44, 162, 59, 224, 223, 132, 327, 326, 168, 326, 327, 132, 133, 60, 299, 304, 33, 344, 315, 220, 316, 369, 58, 307, 215, 214, 212, 295, 119, 16, 331, 135, 67, 173, 227, 356, 77, 78, 79, 138, 158, 371, 156, 76, 111, 35, 172, 35, 111, 76, 156, 155, 98, 26, 230, 354, 30, 150, 57, 56, 351, 85, 204, 366, 302, 246, 27, 239, 5, 13, 151, 339, 142, 143, 160, 143, 340, 125, 122, 121, 65, 342, 343, 32, 303, 298, 225, 177, 79, 138, 158, 371, 156, 154, 11, 54, 145, 373, 196, 259, 198, 52, 201, 145, 54, 11, 154, 349, 99, 358, 346, 174, 221, 222, 330, 73, 70, 165, 375, 310, 309, 8, 350, 312, 229, 305, 285, 115, 116, 233, 320, 233, 116, 115, 285, 305, 229, 312, 314, 107, 335, 61, 335, 107, 314, 313, 140, 122, 125, 340, 143, 144, 142, 75, 21, 20, 129, 311, 315, 220, 316, 369, 58, 307, 215, 212, 275, 212, 295, 119, 16, 331, 135, 136, 68, 67, 173, 227, 356, 77, 50, 51, 202, 326, 168, 326, 202, 203, 332, 110, 2, 139, 355, 306, 157, 291, 141, 197, 199, 198, 199, 197, 141, 291, 157, 306, 355, 139, 2, 110, 332, 203, 317, 133, 60, 59, 162, 44, 250, 123, 63, 169, 341, 300, 87, 82, 277, 82, 87, 300, 341, 169, 170, 144, 31, 41, 34, 248, 247, 146, 283, 20, 129, 311, 315, 344, 33, 304, 299, 60, 133, 317, 203, 332, 110, 109, 50, 77, 356, 227, 173, 67, 135, 67, 173, 227, 356, 77, 78, 9, 338, 308, 347, 294, 347, 346, 174, 221, 74, 195, 47, 148, 117, 118, 288, 17, 40, 297, 219, 220, 316, 369, 58, 307, 215, 214, 236, 19, 93, 97, 23, 287, 62, 216, 243, 83, 128, 324, 96, 95, 210, 3, 262, 3, 210, 95, 292, 293, 101, 209, 232, 348, 45, 155, 98, 26, 230, 354, 30, 150, 57, 56, 362, 56, 55, 127, 109, 50, 77, 356, 227, 173, 67, 135, 331, 16, 119, 295, 212, 275, 212, 213, 12, 1, 235, 284, 211, 86, 21, 75, 142, 339, 151, 13, 14, 64, 192, 337, 192, 64, 14, 124, 125, 122, 140, 313, 312, 229, 305, 285, 115, 263, 115, 285, 284, 211, 86, 21, 75, 142, 143, 160, 226, 270, 226, 160, 143, 340, 125, 122, 121, 65, 342, 310, 375, 165, 70, 73, 330, 222, 221, 174, 346, 358, 99, 349, 154, 156, 76, 111, 35, 172, 240, 172, 35, 111, 76, 156, 155, 45, 348, 232, 209, 101, 293, 96, 324, 128, 83, 243, 244, 352, 244, 164, 49, 241, 149, 148, 47, 195, 74, 221, 174, 346, 358, 346, 174, 221, 222, 323, 334, 333, 208, 207, 113, 234, 249, 234, 113, 207, 206, 106, 231, 368, 360, 80, 274, 80, 360, 368, 231, 106, 206, 218, 294, 347, 308, 338, 9, 78, 77, 50, 109, 50, 51, 137, 359, 321, 100, 207, 209, 101, 293, 96, 324, 128, 83, 243, 242, 46, 329, 118, 288, 17, 40, 297, 219, 220, 315, 314, 107, 335, 61, 18, 163, 105, 296, 205, 94, 200, 257, 200, 94, 93, 97, 23, 287, 62, 216, 243, 83, 128, 324, 96, 293, 101, 209, 232, 348, 45, 155, 154, 11, 54, 145, 373, 196, 197, 141, 291, 157, 306, 355, 139, 2, 110, 332, 203, 317, 133, 60, 59, 162, 44, 250, 123, 63, 169, 170, 144, 142, 339, 151, 13, 5, 239, 27, 246, 302, 366, 367, 189, 370, 286, 264, 171, 4, 251, 4, 171, 264, 286, 370, 189, 367, 103, 327, 325, 175, 78, 9, 338, 308, 347, 294, 218, 206, 209, 101, 293, 96, 324, 128, 83, 243, 244, 352, 184, 260, 184, 352, 244, 243, 83, 128, 324, 96, 293, 101, 209, 232, 348, 45, 155, 98, 26, 230, 354, 30, 150, 57, 56, 362, 256, 362, 56, 57, 150, 30, 354, 355, 306, 157, 291, 141, 197, 199, 104, 199, 198, 52, 201, 145, 54, 11, 154, 156, 371, 158, 138, 158, 371, 156, 154, 11, 54, 145, 373, 196, 197, 199, 104, 271, 104, 199, 197, 141, 291, 157, 306, 355, 139, 2, 110, 332, 203, 317, 133, 60, 299, 304, 33, 344, 315, 312, 229, 305, 285, 115, 116, 233, 320, 279, 278, 357, 247, 248, 280, 92, 34, 41, 31, 144]\n"
     ]
    }
   ],
   "source": [
    "#LIST OF ALL THE STATION TO VISIT\n",
    "print(bestSolution.pathWay(shortestMulti))\n",
    "#THE SOLUTION HAS BEEN CHECKED MANUALLY and IT'S OK"
   ]
  }
 ],
 "metadata": {
  "kernelspec": {
   "display_name": "Python 3",
   "language": "python",
   "name": "python3"
  },
  "language_info": {
   "codemirror_mode": {
    "name": "ipython",
    "version": 3
   },
   "file_extension": ".py",
   "mimetype": "text/x-python",
   "name": "python",
   "nbconvert_exporter": "python",
   "pygments_lexer": "ipython3",
   "version": "3.6.4"
  }
 },
 "nbformat": 4,
 "nbformat_minor": 2
}
