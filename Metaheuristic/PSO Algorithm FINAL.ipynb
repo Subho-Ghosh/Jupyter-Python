{
 "cells": [
  {
   "cell_type": "markdown",
   "metadata": {},
   "source": [
    "https://esa.github.io/pagmo2/docs/python/tutorials/coding_udp_simple.html\n",
    "https://esa.github.io/pagmo2/docs/python/algorithms/py_algorithms.html#pygmo.pso"
   ]
  },
  {
   "cell_type": "code",
   "execution_count": 1,
   "metadata": {
    "scrolled": true
   },
   "outputs": [],
   "source": [
    "import numpy as np\n",
    "import matplotlib.pyplot as plt\n",
    "from pygmo import *"
   ]
  },
  {
   "cell_type": "code",
   "execution_count": 2,
   "metadata": {},
   "outputs": [],
   "source": [
    "class Rosenbrock_py:\n",
    "    def __init__(self, dim):\n",
    "        self.dim = dim\n",
    "    \n",
    "    def fitness(self, x):\n",
    "        return [(1 - x[0])**2 + 100 * ( x[1] - x[0]**2)**2]\n",
    "\n",
    "    def get_bounds(self):\n",
    "        return ([-10,-10],[10,10])\n",
    "    \n",
    "    def get_name(self):\n",
    "        return \"Rosenbrock\"\n",
    "\n",
    "    def get_extra_info(self):\n",
    "        return \"\\tDimensions: \" + str(self.dim)\n",
    "\n"
   ]
  },
  {
   "cell_type": "code",
   "execution_count": 3,
   "metadata": {},
   "outputs": [],
   "source": [
    "prob = problem(Rosenbrock_py(2))"
   ]
  },
  {
   "cell_type": "code",
   "execution_count": 4,
   "metadata": {},
   "outputs": [
    {
     "name": "stdout",
     "output_type": "stream",
     "text": [
      "Problem name: Rosenbrock\n",
      "\tGlobal dimension:\t\t\t2\n",
      "\tInteger dimension:\t\t\t0\n",
      "\tFitness dimension:\t\t\t1\n",
      "\tNumber of objectives:\t\t\t1\n",
      "\tEquality constraints dimension:\t\t0\n",
      "\tInequality constraints dimension:\t0\n",
      "\tLower bounds: [-10, -10]\n",
      "\tUpper bounds: [10, 10]\n",
      "\n",
      "\tHas gradient: false\n",
      "\tUser implemented gradient sparsity: false\n",
      "\tHas hessians: false\n",
      "\tUser implemented hessians sparsity: false\n",
      "\n",
      "\tFitness evaluations: 0\n",
      "\n",
      "\tThread safety: none\n",
      "\n",
      "Extra info:\n",
      "\tDimensions: 2\n"
     ]
    }
   ],
   "source": [
    "print(prob)"
   ]
  },
  {
   "cell_type": "code",
   "execution_count": 6,
   "metadata": {},
   "outputs": [
    {
     "name": "stdout",
     "output_type": "stream",
     "text": [
      "After parameters optimization omega 0.0, the minimum found is [0.03730846] and [X,Y] = [1.19208476 1.42309561]\n",
      "After parameters optimization omega 0.1, the minimum found is [0.] and [X,Y] = [1. 1.]\n",
      "After parameters optimization omega 0.2, the minimum found is [0.] and [X,Y] = [1. 1.]\n",
      "After parameters optimization omega 0.3, the minimum found is [0.] and [X,Y] = [1. 1.]\n",
      "After parameters optimization omega 0.4, the minimum found is [1.09257235e-28] and [X,Y] = [1. 1.]\n",
      "After parameters optimization omega 0.5, the minimum found is [4.6092435e-22] and [X,Y] = [1. 1.]\n",
      "After parameters optimization omega 0.6, the minimum found is [1.60135101e-17] and [X,Y] = [1. 1.]\n",
      "After parameters optimization omega 0.7, the minimum found is [2.25960065e-13] and [X,Y] = [0.99999953 0.99999905]\n",
      "After parameters optimization omega 0.8, the minimum found is [5.15186135e-07] and [X,Y] = [0.9999494  0.99982721]\n",
      "After parameters optimization omega 0.9, the minimum found is [0.00052438] and [X,Y] = [1.0174644  1.03375269]\n"
     ]
    }
   ],
   "source": [
    "#OMEGA OPTI\n",
    "for i in range(0,10):\n",
    "    param = i / 10\n",
    "    algo = algorithm(pso(gen = 100, omega = param, eta1 = 1.2, eta2 = 1.1, max_vel = 0.5, \n",
    "                         variant = 3, neighb_type = 4, neighb_param = 5, memory = False))\n",
    "    algo.set_verbosity(50)\n",
    "    prob = problem(Rosenbrock_py(30))\n",
    "    pop = population(prob, 100)\n",
    "    pop = algo.evolve(pop)\n",
    "    print(\"After parameters optimization omega {}, the minimum found is {} and [X,Y] = {}\".format(param, pop.champion_f, pop.champion_x))"
   ]
  },
  {
   "cell_type": "code",
   "execution_count": 7,
   "metadata": {},
   "outputs": [
    {
     "name": "stdout",
     "output_type": "stream",
     "text": [
      "After parameters optimization eta1 0.0, the minimum found is [0.] and [X,Y] = [1. 1.]\n",
      "After parameters optimization eta1 0.1, the minimum found is [0.] and [X,Y] = [1. 1.]\n",
      "After parameters optimization eta1 0.2, the minimum found is [0.] and [X,Y] = [1. 1.]\n",
      "After parameters optimization eta1 0.3, the minimum found is [0.] and [X,Y] = [1. 1.]\n",
      "After parameters optimization eta1 0.4, the minimum found is [0.] and [X,Y] = [1. 1.]\n",
      "After parameters optimization eta1 0.5, the minimum found is [0.] and [X,Y] = [1. 1.]\n",
      "After parameters optimization eta1 0.6, the minimum found is [0.] and [X,Y] = [1. 1.]\n",
      "After parameters optimization eta1 0.7, the minimum found is [0.] and [X,Y] = [1. 1.]\n",
      "After parameters optimization eta1 0.8, the minimum found is [0.] and [X,Y] = [1. 1.]\n",
      "After parameters optimization eta1 0.9, the minimum found is [0.] and [X,Y] = [1. 1.]\n",
      "After parameters optimization eta1 1.0, the minimum found is [0.] and [X,Y] = [1. 1.]\n",
      "After parameters optimization eta1 1.1, the minimum found is [0.] and [X,Y] = [1. 1.]\n",
      "After parameters optimization eta1 1.2, the minimum found is [0.] and [X,Y] = [1. 1.]\n",
      "After parameters optimization eta1 1.3, the minimum found is [0.] and [X,Y] = [1. 1.]\n",
      "After parameters optimization eta1 1.4, the minimum found is [0.] and [X,Y] = [1. 1.]\n",
      "After parameters optimization eta1 1.5, the minimum found is [0.] and [X,Y] = [1. 1.]\n",
      "After parameters optimization eta1 1.6, the minimum found is [0.] and [X,Y] = [1. 1.]\n",
      "After parameters optimization eta1 1.7, the minimum found is [0.] and [X,Y] = [1. 1.]\n",
      "After parameters optimization eta1 1.8, the minimum found is [1.97215226e-31] and [X,Y] = [1. 1.]\n",
      "After parameters optimization eta1 1.9, the minimum found is [1.23259516e-32] and [X,Y] = [1. 1.]\n",
      "After parameters optimization eta1 2.0, the minimum found is [0.] and [X,Y] = [1. 1.]\n",
      "After parameters optimization eta1 2.1, the minimum found is [1.97215226e-31] and [X,Y] = [1. 1.]\n",
      "After parameters optimization eta1 2.2, the minimum found is [3.64848169e-30] and [X,Y] = [1. 1.]\n",
      "After parameters optimization eta1 2.3, the minimum found is [8.93631494e-30] and [X,Y] = [1. 1.]\n",
      "After parameters optimization eta1 2.4, the minimum found is [1.84302559e-27] and [X,Y] = [1. 1.]\n",
      "After parameters optimization eta1 2.5, the minimum found is [4.63777489e-27] and [X,Y] = [1. 1.]\n",
      "After parameters optimization eta1 2.6, the minimum found is [2.19523148e-24] and [X,Y] = [1. 1.]\n",
      "After parameters optimization eta1 2.7, the minimum found is [7.81169511e-28] and [X,Y] = [1. 1.]\n",
      "After parameters optimization eta1 2.8, the minimum found is [8.74298535e-25] and [X,Y] = [1. 1.]\n",
      "After parameters optimization eta1 2.9, the minimum found is [2.33544416e-22] and [X,Y] = [1. 1.]\n",
      "After parameters optimization eta1 3.0, the minimum found is [1.45489022e-21] and [X,Y] = [1. 1.]\n",
      "After parameters optimization eta1 3.1, the minimum found is [5.7143571e-22] and [X,Y] = [1. 1.]\n",
      "After parameters optimization eta1 3.2, the minimum found is [8.41747017e-18] and [X,Y] = [1. 1.]\n",
      "After parameters optimization eta1 3.3, the minimum found is [9.7617308e-19] and [X,Y] = [1. 1.]\n",
      "After parameters optimization eta1 3.4, the minimum found is [6.0239635e-19] and [X,Y] = [1. 1.]\n",
      "After parameters optimization eta1 3.5, the minimum found is [2.7519958e-16] and [X,Y] = [1.00000001 1.00000003]\n",
      "After parameters optimization eta1 3.6, the minimum found is [1.08793054e-16] and [X,Y] = [1.00000001 1.00000002]\n",
      "After parameters optimization eta1 3.7, the minimum found is [3.81290531e-15] and [X,Y] = [1.00000005 1.00000009]\n",
      "After parameters optimization eta1 3.8, the minimum found is [4.40598685e-13] and [X,Y] = [1.00000066 1.00000132]\n",
      "After parameters optimization eta1 3.9, the minimum found is [1.72349452e-15] and [X,Y] = [0.99999996 0.99999992]\n",
      "After parameters optimization eta1 4.0, the minimum found is [1.73545322e-10] and [X,Y] = [1.00000067 1.00000002]\n"
     ]
    }
   ],
   "source": [
    "#eta1 OPTI\n",
    "for i in range(0,41):\n",
    "    param = i / 10\n",
    "    algo = algorithm(pso(gen = 100, omega = 0.3, eta1 = param, eta2 = 1.1, max_vel = 0.5, \n",
    "                         variant = 3, neighb_type = 4, neighb_param = 5, memory = False))\n",
    "    algo.set_verbosity(50)\n",
    "    prob = problem(Rosenbrock_py(30))\n",
    "    pop = population(prob, 100)\n",
    "    pop = algo.evolve(pop)\n",
    "    print(\"After parameters optimization eta1 {}, the minimum found is {} and [X,Y] = {}\".format(param, pop.champion_f, pop.champion_x))"
   ]
  },
  {
   "cell_type": "code",
   "execution_count": 8,
   "metadata": {},
   "outputs": [
    {
     "name": "stdout",
     "output_type": "stream",
     "text": [
      "After parameters optimization eta2 0.0, the minimum found is [2.84690678] and [X,Y] = [2.64913926 7.05361046]\n",
      "After parameters optimization eta2 0.1, the minimum found is [0.00768293] and [X,Y] = [0.93731447 0.88468496]\n",
      "After parameters optimization eta2 0.2, the minimum found is [0.0016157] and [X,Y] = [1.03862583 1.07763121]\n",
      "After parameters optimization eta2 0.3, the minimum found is [0.00286885] and [X,Y] = [0.94760352 0.89684133]\n",
      "After parameters optimization eta2 0.4, the minimum found is [0.00132976] and [X,Y] = [1.01009502 1.02379602]\n",
      "After parameters optimization eta2 0.5, the minimum found is [3.69646545e-17] and [X,Y] = [0.99999999 0.99999999]\n",
      "After parameters optimization eta2 0.6, the minimum found is [5.76286291e-06] and [X,Y] = [0.99783106 0.99556394]\n",
      "After parameters optimization eta2 0.7, the minimum found is [0.] and [X,Y] = [1. 1.]\n",
      "After parameters optimization eta2 0.8, the minimum found is [0.] and [X,Y] = [1. 1.]\n",
      "After parameters optimization eta2 0.9, the minimum found is [0.] and [X,Y] = [1. 1.]\n",
      "After parameters optimization eta2 1.0, the minimum found is [0.] and [X,Y] = [1. 1.]\n",
      "After parameters optimization eta2 1.1, the minimum found is [0.] and [X,Y] = [1. 1.]\n",
      "After parameters optimization eta2 1.2, the minimum found is [0.] and [X,Y] = [1. 1.]\n",
      "After parameters optimization eta2 1.3, the minimum found is [0.] and [X,Y] = [1. 1.]\n",
      "After parameters optimization eta2 1.4, the minimum found is [0.] and [X,Y] = [1. 1.]\n",
      "After parameters optimization eta2 1.5, the minimum found is [0.] and [X,Y] = [1. 1.]\n",
      "After parameters optimization eta2 1.6, the minimum found is [8.08582428e-30] and [X,Y] = [1. 1.]\n",
      "After parameters optimization eta2 1.7, the minimum found is [6.66833984e-30] and [X,Y] = [1. 1.]\n",
      "After parameters optimization eta2 1.8, the minimum found is [4.46815747e-29] and [X,Y] = [1. 1.]\n",
      "After parameters optimization eta2 1.9, the minimum found is [9.60221215e-27] and [X,Y] = [1. 1.]\n",
      "After parameters optimization eta2 2.0, the minimum found is [9.1840381e-25] and [X,Y] = [1. 1.]\n",
      "After parameters optimization eta2 2.1, the minimum found is [7.38769273e-25] and [X,Y] = [1. 1.]\n",
      "After parameters optimization eta2 2.2, the minimum found is [3.4848601e-25] and [X,Y] = [1. 1.]\n",
      "After parameters optimization eta2 2.3, the minimum found is [7.65956084e-23] and [X,Y] = [1. 1.]\n",
      "After parameters optimization eta2 2.4, the minimum found is [9.93113412e-22] and [X,Y] = [1. 1.]\n",
      "After parameters optimization eta2 2.5, the minimum found is [5.61416284e-21] and [X,Y] = [1. 1.]\n",
      "After parameters optimization eta2 2.6, the minimum found is [8.40315253e-21] and [X,Y] = [1. 1.]\n",
      "After parameters optimization eta2 2.7, the minimum found is [4.50842085e-17] and [X,Y] = [0.99999999 0.99999999]\n",
      "After parameters optimization eta2 2.8, the minimum found is [4.59317165e-16] and [X,Y] = [1.00000001 1.00000003]\n",
      "After parameters optimization eta2 2.9, the minimum found is [1.59511148e-14] and [X,Y] = [0.99999999 1.        ]\n",
      "After parameters optimization eta2 3.0, the minimum found is [4.57497778e-12] and [X,Y] = [1.00000076 1.00000132]\n",
      "After parameters optimization eta2 3.1, the minimum found is [1.6031355e-14] and [X,Y] = [1.00000007 1.00000015]\n",
      "After parameters optimization eta2 3.2, the minimum found is [2.25278474e-14] and [X,Y] = [1.00000003 1.00000004]\n",
      "After parameters optimization eta2 3.3, the minimum found is [1.14576732e-10] and [X,Y] = [0.99999125 0.99998311]\n",
      "After parameters optimization eta2 3.4, the minimum found is [1.49310936e-09] and [X,Y] = [1.00003864 1.00007729]\n",
      "After parameters optimization eta2 3.5, the minimum found is [5.4493137e-13] and [X,Y] = [1.00000049 1.00000092]\n",
      "After parameters optimization eta2 3.6, the minimum found is [1.6815145e-07] and [X,Y] = [1.00029443 1.00056041]\n",
      "After parameters optimization eta2 3.7, the minimum found is [6.04710219e-06] and [X,Y] = [1.00220844 1.00452991]\n",
      "After parameters optimization eta2 3.8, the minimum found is [9.40778417e-06] and [X,Y] = [0.99696521 0.99398411]\n",
      "After parameters optimization eta2 3.9, the minimum found is [9.58892395e-07] and [X,Y] = [1.00002078 0.99994367]\n",
      "After parameters optimization eta2 4.0, the minimum found is [2.81393644e-05] and [X,Y] = [0.99607546 0.99252323]\n"
     ]
    }
   ],
   "source": [
    "#eta2 OPTI\n",
    "for i in range(0,41):\n",
    "    param = i / 10\n",
    "    algo = algorithm(pso(gen = 100, omega = 0.3, eta1 = 1.2, eta2 = param, max_vel = 0.5, \n",
    "                         variant = 3, neighb_type = 4, neighb_param = 5, memory = False))\n",
    "    algo.set_verbosity(50)\n",
    "    prob = problem(Rosenbrock_py(30))\n",
    "    pop = population(prob, 100)\n",
    "    pop = algo.evolve(pop)\n",
    "    print(\"After parameters optimization eta2 {}, the minimum found is {} and [X,Y] = {}\".format(param, pop.champion_f, pop.champion_x))"
   ]
  },
  {
   "cell_type": "code",
   "execution_count": 9,
   "metadata": {},
   "outputs": [
    {
     "name": "stdout",
     "output_type": "stream",
     "text": [
      "After parameters optimization max_vel 0.1, the minimum found is [0.] and [X,Y] = [1. 1.]\n",
      "After parameters optimization max_vel 0.2, the minimum found is [0.] and [X,Y] = [1. 1.]\n",
      "After parameters optimization max_vel 0.3, the minimum found is [0.] and [X,Y] = [1. 1.]\n",
      "After parameters optimization max_vel 0.4, the minimum found is [0.] and [X,Y] = [1. 1.]\n",
      "After parameters optimization max_vel 0.5, the minimum found is [0.] and [X,Y] = [1. 1.]\n",
      "After parameters optimization max_vel 0.6, the minimum found is [0.] and [X,Y] = [1. 1.]\n",
      "After parameters optimization max_vel 0.7, the minimum found is [0.] and [X,Y] = [1. 1.]\n",
      "After parameters optimization max_vel 0.8, the minimum found is [0.] and [X,Y] = [1. 1.]\n",
      "After parameters optimization max_vel 0.9, the minimum found is [0.] and [X,Y] = [1. 1.]\n",
      "After parameters optimization max_vel 1.0, the minimum found is [0.] and [X,Y] = [1. 1.]\n"
     ]
    }
   ],
   "source": [
    "#max_vel OPTI\n",
    "for i in range(1,11):\n",
    "    param = i / 10\n",
    "    algo = algorithm(pso(gen = 100, omega = 0.3, eta1 = 1.2, eta2 = 1.1, max_vel = param, \n",
    "                         variant = 3, neighb_type = 4, neighb_param = 5, memory = False))\n",
    "    algo.set_verbosity(50)\n",
    "    prob = problem(Rosenbrock_py(30))\n",
    "    pop = population(prob, 100)\n",
    "    pop = algo.evolve(pop)\n",
    "    print(\"After parameters optimization max_vel {}, the minimum found is {} and [X,Y] = {}\".format(param, pop.champion_f, pop.champion_x))"
   ]
  },
  {
   "cell_type": "code",
   "execution_count": 10,
   "metadata": {},
   "outputs": [
    {
     "name": "stdout",
     "output_type": "stream",
     "text": [
      "After parameters optimization variant 1, the minimum found is [1.48580858e-09] and [X,Y] = [1.00003854 1.00007713]\n",
      "After parameters optimization variant 2, the minimum found is [1.48941339e-13] and [X,Y] = [0.99999979 0.99999961]\n",
      "After parameters optimization variant 3, the minimum found is [0.] and [X,Y] = [1. 1.]\n",
      "After parameters optimization variant 4, the minimum found is [1.23259516e-32] and [X,Y] = [1. 1.]\n",
      "After parameters optimization variant 5, the minimum found is [3.13804508e-10] and [X,Y] = [0.9999906 0.9999827]\n",
      "After parameters optimization variant 6, the minimum found is [0.1396036] and [X,Y] = [0.62719438 0.39088367]\n"
     ]
    }
   ],
   "source": [
    "#variant OPTI\n",
    "for i in range(1,7):\n",
    "    param = i\n",
    "    algo = algorithm(pso(gen = 100, omega = 0.3, eta1 = 1.2, eta2 = 1.1, max_vel = 0.5, \n",
    "                         variant = param, neighb_type = 4, neighb_param = 5, memory = False))\n",
    "    algo.set_verbosity(50)\n",
    "    prob = problem(Rosenbrock_py(30))\n",
    "    pop = population(prob, 100)\n",
    "    pop = algo.evolve(pop)\n",
    "    print(\"After parameters optimization variant {}, the minimum found is {} and [X,Y] = {}\".format(param, pop.champion_f, pop.champion_x))"
   ]
  },
  {
   "cell_type": "code",
   "execution_count": 11,
   "metadata": {},
   "outputs": [
    {
     "name": "stdout",
     "output_type": "stream",
     "text": [
      "After parameters optimization neighb_type 1, the minimum found is [0.] and [X,Y] = [1. 1.]\n",
      "After parameters optimization neighb_type 2, the minimum found is [0.] and [X,Y] = [1. 1.]\n",
      "After parameters optimization neighb_type 3, the minimum found is [0.] and [X,Y] = [1. 1.]\n",
      "After parameters optimization neighb_type 4, the minimum found is [0.] and [X,Y] = [1. 1.]\n"
     ]
    }
   ],
   "source": [
    "#neighb_type OPTI\n",
    "for i in range(1,5):\n",
    "    param = i\n",
    "    algo = algorithm(pso(gen = 100, omega = 0.3, eta1 = 1.2, eta2 = 1.1, max_vel = 0.5, \n",
    "                         variant = 3, neighb_type = i, neighb_param = 5, memory = False))\n",
    "    algo.set_verbosity(50)\n",
    "    prob = problem(Rosenbrock_py(30))\n",
    "    pop = population(prob, 100)\n",
    "    pop = algo.evolve(pop)\n",
    "    print(\"After parameters optimization neighb_type {}, the minimum found is {} and [X,Y] = {}\".format(param, pop.champion_f, pop.champion_x))"
   ]
  },
  {
   "cell_type": "code",
   "execution_count": 12,
   "metadata": {},
   "outputs": [
    {
     "name": "stdout",
     "output_type": "stream",
     "text": [
      "After parameters optimization neighb_param 1, the minimum found is [0.] and [X,Y] = [1. 1.]\n",
      "After parameters optimization neighb_param 2, the minimum found is [0.] and [X,Y] = [1. 1.]\n",
      "After parameters optimization neighb_param 3, the minimum found is [0.] and [X,Y] = [1. 1.]\n",
      "After parameters optimization neighb_param 4, the minimum found is [0.] and [X,Y] = [1. 1.]\n",
      "After parameters optimization neighb_param 5, the minimum found is [0.] and [X,Y] = [1. 1.]\n",
      "After parameters optimization neighb_param 6, the minimum found is [0.] and [X,Y] = [1. 1.]\n",
      "After parameters optimization neighb_param 7, the minimum found is [0.] and [X,Y] = [1. 1.]\n",
      "After parameters optimization neighb_param 8, the minimum found is [0.] and [X,Y] = [1. 1.]\n",
      "After parameters optimization neighb_param 9, the minimum found is [0.] and [X,Y] = [1. 1.]\n",
      "After parameters optimization neighb_param 10, the minimum found is [0.] and [X,Y] = [1. 1.]\n",
      "After parameters optimization neighb_param 11, the minimum found is [0.] and [X,Y] = [1. 1.]\n",
      "After parameters optimization neighb_param 12, the minimum found is [0.] and [X,Y] = [1. 1.]\n",
      "After parameters optimization neighb_param 13, the minimum found is [0.] and [X,Y] = [1. 1.]\n",
      "After parameters optimization neighb_param 14, the minimum found is [0.] and [X,Y] = [1. 1.]\n",
      "After parameters optimization neighb_param 15, the minimum found is [0.] and [X,Y] = [1. 1.]\n",
      "After parameters optimization neighb_param 16, the minimum found is [0.] and [X,Y] = [1. 1.]\n",
      "After parameters optimization neighb_param 17, the minimum found is [0.] and [X,Y] = [1. 1.]\n",
      "After parameters optimization neighb_param 18, the minimum found is [0.] and [X,Y] = [1. 1.]\n",
      "After parameters optimization neighb_param 19, the minimum found is [0.] and [X,Y] = [1. 1.]\n",
      "After parameters optimization neighb_param 20, the minimum found is [0.] and [X,Y] = [1. 1.]\n",
      "After parameters optimization neighb_param 21, the minimum found is [0.] and [X,Y] = [1. 1.]\n",
      "After parameters optimization neighb_param 22, the minimum found is [0.] and [X,Y] = [1. 1.]\n",
      "After parameters optimization neighb_param 23, the minimum found is [0.] and [X,Y] = [1. 1.]\n",
      "After parameters optimization neighb_param 24, the minimum found is [0.] and [X,Y] = [1. 1.]\n",
      "After parameters optimization neighb_param 25, the minimum found is [0.] and [X,Y] = [1. 1.]\n",
      "After parameters optimization neighb_param 26, the minimum found is [0.] and [X,Y] = [1. 1.]\n",
      "After parameters optimization neighb_param 27, the minimum found is [0.] and [X,Y] = [1. 1.]\n",
      "After parameters optimization neighb_param 28, the minimum found is [0.] and [X,Y] = [1. 1.]\n",
      "After parameters optimization neighb_param 29, the minimum found is [0.] and [X,Y] = [1. 1.]\n",
      "After parameters optimization neighb_param 30, the minimum found is [0.] and [X,Y] = [1. 1.]\n",
      "After parameters optimization neighb_param 31, the minimum found is [0.] and [X,Y] = [1. 1.]\n",
      "After parameters optimization neighb_param 32, the minimum found is [0.] and [X,Y] = [1. 1.]\n",
      "After parameters optimization neighb_param 33, the minimum found is [0.] and [X,Y] = [1. 1.]\n",
      "After parameters optimization neighb_param 34, the minimum found is [0.] and [X,Y] = [1. 1.]\n",
      "After parameters optimization neighb_param 35, the minimum found is [0.] and [X,Y] = [1. 1.]\n",
      "After parameters optimization neighb_param 36, the minimum found is [0.] and [X,Y] = [1. 1.]\n",
      "After parameters optimization neighb_param 37, the minimum found is [0.] and [X,Y] = [1. 1.]\n",
      "After parameters optimization neighb_param 38, the minimum found is [0.] and [X,Y] = [1. 1.]\n",
      "After parameters optimization neighb_param 39, the minimum found is [0.] and [X,Y] = [1. 1.]\n",
      "After parameters optimization neighb_param 40, the minimum found is [0.] and [X,Y] = [1. 1.]\n",
      "After parameters optimization neighb_param 41, the minimum found is [0.] and [X,Y] = [1. 1.]\n",
      "After parameters optimization neighb_param 42, the minimum found is [0.] and [X,Y] = [1. 1.]\n",
      "After parameters optimization neighb_param 43, the minimum found is [0.] and [X,Y] = [1. 1.]\n",
      "After parameters optimization neighb_param 44, the minimum found is [0.] and [X,Y] = [1. 1.]\n",
      "After parameters optimization neighb_param 45, the minimum found is [0.] and [X,Y] = [1. 1.]\n",
      "After parameters optimization neighb_param 46, the minimum found is [0.] and [X,Y] = [1. 1.]\n",
      "After parameters optimization neighb_param 47, the minimum found is [0.] and [X,Y] = [1. 1.]\n",
      "After parameters optimization neighb_param 48, the minimum found is [0.] and [X,Y] = [1. 1.]\n",
      "After parameters optimization neighb_param 49, the minimum found is [0.] and [X,Y] = [1. 1.]\n"
     ]
    }
   ],
   "source": [
    "#neighb_param OPTI\n",
    "for i in range(1,50):\n",
    "    param = i\n",
    "    algo = algorithm(pso(gen = 100, omega = 0.3, eta1 = 1.2, eta2 = 1.1, max_vel = 0.5, \n",
    "                         variant = 3, neighb_type = 3, neighb_param = 5 , memory = False))\n",
    "    algo.set_verbosity(50)\n",
    "    prob = problem(Rosenbrock_py(30))\n",
    "    pop = population(prob, 100)\n",
    "    pop = algo.evolve(pop)\n",
    "    print(\"After parameters optimization neighb_param {}, the minimum found is {} and [X,Y] = {}\".format(param, pop.champion_f, pop.champion_x))"
   ]
  },
  {
   "cell_type": "code",
   "execution_count": 13,
   "metadata": {},
   "outputs": [
    {
     "name": "stdout",
     "output_type": "stream",
     "text": [
      "After parameters optimization Dimension 30, the minimum found is [0.] and [X,Y] = [1. 1.]\n",
      "After parameters optimization Dimension 50, the minimum found is [0.] and [X,Y] = [1. 1.]\n",
      "After parameters optimization Dimension 100, the minimum found is [0.] and [X,Y] = [1. 1.]\n"
     ]
    }
   ],
   "source": [
    "#DIMENSION OPTI\n",
    "Dimension = [30, 50, 100]\n",
    "for i in Dimension:\n",
    "    algo = algorithm(pso(gen = 100, omega = 0.3, eta1 = 1.2, eta2 = 1.1, max_vel = 0.5, \n",
    "                         variant = 3, neighb_type = 3, neighb_param = 5 , memory = False))\n",
    "    algo.set_verbosity(50)\n",
    "    prob = problem(Rosenbrock_py(i))\n",
    "    pop = population(prob, 100)\n",
    "    pop = algo.evolve(pop)\n",
    "    print(\"After parameters optimization Dimension {}, the minimum found is {} and [X,Y] = {}\".format(i, pop.champion_f, pop.champion_x))"
   ]
  },
  {
   "cell_type": "code",
   "execution_count": 14,
   "metadata": {},
   "outputs": [
    {
     "name": "stdout",
     "output_type": "stream",
     "text": [
      "After parameters optimization Population 10, the minimum found is [0.12347851] and [X,Y] = [1.35122482 1.82690227]\n",
      "After parameters optimization Population 50, the minimum found is [0.] and [X,Y] = [1. 1.]\n",
      "After parameters optimization Population 100, the minimum found is [0.] and [X,Y] = [1. 1.]\n",
      "After parameters optimization Population 1000, the minimum found is [0.] and [X,Y] = [1. 1.]\n",
      "After parameters optimization Population 5000, the minimum found is [0.] and [X,Y] = [1. 1.]\n"
     ]
    }
   ],
   "source": [
    "#POPULATION OPTI\n",
    "PopulationSize = [10, 50, 100, 1000, 5000]\n",
    "for i in PopulationSize:\n",
    "    algo = algorithm(pso(gen = 100, omega = 0.3, eta1 = 1.2, eta2 = 1.1, max_vel = 0.5, \n",
    "                         variant = 3, neighb_type = 3, neighb_param = 5 , memory = False))\n",
    "    algo.set_verbosity(50)\n",
    "    prob = problem(Rosenbrock_py(30))\n",
    "    pop = population(prob, i)\n",
    "    pop = algo.evolve(pop)\n",
    "    print(\"After parameters optimization Population {}, the minimum found is {} and [X,Y] = {}\".format(i, pop.champion_f, pop.champion_x))"
   ]
  },
  {
   "cell_type": "markdown",
   "metadata": {},
   "source": [
    "FINAL COMPUTATION"
   ]
  },
  {
   "cell_type": "code",
   "execution_count": 15,
   "metadata": {},
   "outputs": [],
   "source": [
    "algo = algorithm(pso(gen = 100, omega = 0.3, eta1 = 1.2, eta2 = 1.1, max_vel = 0.5, \n",
    "                     variant = 3, neighb_type = 3, neighb_param = 5, memory = False))\n",
    "algo.set_verbosity(50)\n",
    "prob = problem(Rosenbrock_py(30))\n",
    "pop = population(prob, 100)\n",
    "pop = algo.evolve(pop)"
   ]
  },
  {
   "cell_type": "code",
   "execution_count": 16,
   "metadata": {},
   "outputs": [
    {
     "name": "stdout",
     "output_type": "stream",
     "text": [
      "After parameters optimization, the minimum found is [0.] and [X,Y] = [1. 1.]\n",
      "pso(gen = 100, omega = 0.44, eta1 = 1.2, eta2 = 1.1, max_vel = 0.5, variant = 3, neighb_type = 4, neighb_param = 45, memory = False\n"
     ]
    }
   ],
   "source": [
    "print(\"After parameters optimization, the minimum found is {} and [X,Y] = {}\".format(pop.champion_f, pop.champion_x))\n",
    "print('pso(gen = 100, omega = 0.44, eta1 = 1.2, eta2 = 1.1, max_vel = 0.5, variant = 3, neighb_type = 4, neighb_param = 45, memory = False')"
   ]
  }
 ],
 "metadata": {
  "kernelspec": {
   "display_name": "Python 3",
   "language": "python",
   "name": "python3"
  },
  "language_info": {
   "codemirror_mode": {
    "name": "ipython",
    "version": 3
   },
   "file_extension": ".py",
   "mimetype": "text/x-python",
   "name": "python",
   "nbconvert_exporter": "python",
   "pygments_lexer": "ipython3",
   "version": "3.6.4"
  }
 },
 "nbformat": 4,
 "nbformat_minor": 2
}
