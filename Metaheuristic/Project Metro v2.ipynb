{
 "cells": [
  {
   "cell_type": "code",
   "execution_count": 1,
   "metadata": {},
   "outputs": [],
   "source": [
    "import networkx as nx\n",
    "import numpy as np\n",
    "import pandas as pd\n",
    "import time\n",
    "import matplotlib.pyplot as plt\n",
    "import random\n",
    "import copy"
   ]
  },
  {
   "cell_type": "code",
   "execution_count": 2,
   "metadata": {},
   "outputs": [
    {
     "data": {
      "text/html": [
       "<div>\n",
       "<style scoped>\n",
       "    .dataframe tbody tr th:only-of-type {\n",
       "        vertical-align: middle;\n",
       "    }\n",
       "\n",
       "    .dataframe tbody tr th {\n",
       "        vertical-align: top;\n",
       "    }\n",
       "\n",
       "    .dataframe thead th {\n",
       "        text-align: right;\n",
       "    }\n",
       "</style>\n",
       "<table border=\"1\" class=\"dataframe\">\n",
       "  <thead>\n",
       "    <tr style=\"text-align: right;\">\n",
       "      <th></th>\n",
       "      <th>Station</th>\n",
       "      <th>Connection</th>\n",
       "      <th>Time</th>\n",
       "      <th>Name</th>\n",
       "    </tr>\n",
       "  </thead>\n",
       "  <tbody>\n",
       "    <tr>\n",
       "      <th>0</th>\n",
       "      <td>0</td>\n",
       "      <td>1</td>\n",
       "      <td>10</td>\n",
       "      <td>A</td>\n",
       "    </tr>\n",
       "    <tr>\n",
       "      <th>1</th>\n",
       "      <td>1</td>\n",
       "      <td>3</td>\n",
       "      <td>10</td>\n",
       "      <td>B</td>\n",
       "    </tr>\n",
       "    <tr>\n",
       "      <th>2</th>\n",
       "      <td>1</td>\n",
       "      <td>2</td>\n",
       "      <td>10</td>\n",
       "      <td>B</td>\n",
       "    </tr>\n",
       "    <tr>\n",
       "      <th>3</th>\n",
       "      <td>2</td>\n",
       "      <td>7</td>\n",
       "      <td>10</td>\n",
       "      <td>C</td>\n",
       "    </tr>\n",
       "    <tr>\n",
       "      <th>4</th>\n",
       "      <td>2</td>\n",
       "      <td>6</td>\n",
       "      <td>10</td>\n",
       "      <td>C</td>\n",
       "    </tr>\n",
       "    <tr>\n",
       "      <th>5</th>\n",
       "      <td>2</td>\n",
       "      <td>4</td>\n",
       "      <td>10</td>\n",
       "      <td>C</td>\n",
       "    </tr>\n",
       "    <tr>\n",
       "      <th>6</th>\n",
       "      <td>2</td>\n",
       "      <td>1</td>\n",
       "      <td>10</td>\n",
       "      <td>C</td>\n",
       "    </tr>\n",
       "    <tr>\n",
       "      <th>7</th>\n",
       "      <td>3</td>\n",
       "      <td>9</td>\n",
       "      <td>10</td>\n",
       "      <td>D</td>\n",
       "    </tr>\n",
       "    <tr>\n",
       "      <th>8</th>\n",
       "      <td>3</td>\n",
       "      <td>4</td>\n",
       "      <td>10</td>\n",
       "      <td>D</td>\n",
       "    </tr>\n",
       "    <tr>\n",
       "      <th>9</th>\n",
       "      <td>3</td>\n",
       "      <td>1</td>\n",
       "      <td>10</td>\n",
       "      <td>D</td>\n",
       "    </tr>\n",
       "    <tr>\n",
       "      <th>10</th>\n",
       "      <td>4</td>\n",
       "      <td>5</td>\n",
       "      <td>10</td>\n",
       "      <td>E</td>\n",
       "    </tr>\n",
       "    <tr>\n",
       "      <th>11</th>\n",
       "      <td>4</td>\n",
       "      <td>3</td>\n",
       "      <td>10</td>\n",
       "      <td>E</td>\n",
       "    </tr>\n",
       "    <tr>\n",
       "      <th>12</th>\n",
       "      <td>4</td>\n",
       "      <td>2</td>\n",
       "      <td>10</td>\n",
       "      <td>E</td>\n",
       "    </tr>\n",
       "    <tr>\n",
       "      <th>13</th>\n",
       "      <td>5</td>\n",
       "      <td>4</td>\n",
       "      <td>10</td>\n",
       "      <td>F</td>\n",
       "    </tr>\n",
       "    <tr>\n",
       "      <th>14</th>\n",
       "      <td>6</td>\n",
       "      <td>2</td>\n",
       "      <td>10</td>\n",
       "      <td>G</td>\n",
       "    </tr>\n",
       "    <tr>\n",
       "      <th>15</th>\n",
       "      <td>7</td>\n",
       "      <td>2</td>\n",
       "      <td>10</td>\n",
       "      <td>H</td>\n",
       "    </tr>\n",
       "    <tr>\n",
       "      <th>16</th>\n",
       "      <td>7</td>\n",
       "      <td>8</td>\n",
       "      <td>10</td>\n",
       "      <td>H</td>\n",
       "    </tr>\n",
       "    <tr>\n",
       "      <th>17</th>\n",
       "      <td>8</td>\n",
       "      <td>7</td>\n",
       "      <td>10</td>\n",
       "      <td>I</td>\n",
       "    </tr>\n",
       "    <tr>\n",
       "      <th>18</th>\n",
       "      <td>9</td>\n",
       "      <td>3</td>\n",
       "      <td>10</td>\n",
       "      <td>J</td>\n",
       "    </tr>\n",
       "  </tbody>\n",
       "</table>\n",
       "</div>"
      ],
      "text/plain": [
       "    Station  Connection  Time Name\n",
       "0         0           1    10    A\n",
       "1         1           3    10    B\n",
       "2         1           2    10    B\n",
       "3         2           7    10    C\n",
       "4         2           6    10    C\n",
       "5         2           4    10    C\n",
       "6         2           1    10    C\n",
       "7         3           9    10    D\n",
       "8         3           4    10    D\n",
       "9         3           1    10    D\n",
       "10        4           5    10    E\n",
       "11        4           3    10    E\n",
       "12        4           2    10    E\n",
       "13        5           4    10    F\n",
       "14        6           2    10    G\n",
       "15        7           2    10    H\n",
       "16        7           8    10    H\n",
       "17        8           7    10    I\n",
       "18        9           3    10    J"
      ]
     },
     "execution_count": 2,
     "metadata": {},
     "output_type": "execute_result"
    }
   ],
   "source": [
    "df = pd.read_csv('C:/Projects IT/Python/Projet Metaheuristic/test.csv', sep =';')\n",
    "nameTable = pd.read_csv('C:/Projects IT/Python/Projet Metaheuristic/indexStation.csv', sep =';')\n",
    "\n",
    "df"
   ]
  },
  {
   "cell_type": "code",
   "execution_count": 3,
   "metadata": {},
   "outputs": [],
   "source": [
    "MG = nx.MultiGraph()"
   ]
  },
  {
   "cell_type": "code",
   "execution_count": 4,
   "metadata": {},
   "outputs": [],
   "source": [
    "for i in range(0, len(df.Station)):\n",
    "    MG.add_edge(df.Station[i], df.Connection[i], weight=df.Time[i])"
   ]
  },
  {
   "cell_type": "code",
   "execution_count": 5,
   "metadata": {},
   "outputs": [
    {
     "data": {
      "text/plain": [
       "<networkx.classes.multigraph.MultiGraph at 0x1a89c61b748>"
      ]
     },
     "execution_count": 5,
     "metadata": {},
     "output_type": "execute_result"
    }
   ],
   "source": [
    "MG"
   ]
  },
  {
   "cell_type": "code",
   "execution_count": 6,
   "metadata": {},
   "outputs": [
    {
     "name": "stdout",
     "output_type": "stream",
     "text": [
      "{0: {1: {0: {'weight': 10}}}, 1: {0: {0: {'weight': 10}}, 3: {0: {'weight': 10}, 1: {'weight': 10}}, 2: {0: {'weight': 10}, 1: {'weight': 10}}}, 3: {1: {0: {'weight': 10}, 1: {'weight': 10}}, 9: {0: {'weight': 10}, 1: {'weight': 10}}, 4: {0: {'weight': 10}, 1: {'weight': 10}}}, 2: {1: {0: {'weight': 10}, 1: {'weight': 10}}, 7: {0: {'weight': 10}, 1: {'weight': 10}}, 6: {0: {'weight': 10}, 1: {'weight': 10}}, 4: {0: {'weight': 10}, 1: {'weight': 10}}}, 7: {2: {0: {'weight': 10}, 1: {'weight': 10}}, 8: {0: {'weight': 10}, 1: {'weight': 10}}}, 6: {2: {0: {'weight': 10}, 1: {'weight': 10}}}, 4: {2: {0: {'weight': 10}, 1: {'weight': 10}}, 3: {0: {'weight': 10}, 1: {'weight': 10}}, 5: {0: {'weight': 10}, 1: {'weight': 10}}}, 9: {3: {0: {'weight': 10}, 1: {'weight': 10}}}, 5: {4: {0: {'weight': 10}, 1: {'weight': 10}}}, 8: {7: {0: {'weight': 10}, 1: {'weight': 10}}}}\n"
     ]
    }
   ],
   "source": [
    "print(MG.adj)"
   ]
  },
  {
   "cell_type": "code",
   "execution_count": 7,
   "metadata": {},
   "outputs": [
    {
     "data": {
      "image/png": "[encoded data removed]",
      "text/plain": [
       "<matplotlib.figure.Figure at 0x1a89c61b2e8>"
      ]
     },
     "metadata": {},
     "output_type": "display_data"
    }
   ],
   "source": [
    "nx.draw(MG, label=True)\n",
    "plt.show()"
   ]
  },
  {
   "cell_type": "code",
   "execution_count": 8,
   "metadata": {},
   "outputs": [
    {
     "name": "stdout",
     "output_type": "stream",
     "text": [
      "{0: {0: [0], 1: [0, 1], 3: [0, 1, 3], 2: [0, 1, 2], 9: [0, 1, 3, 9], 4: [0, 1, 3, 4], 7: [0, 1, 2, 7], 6: [0, 1, 2, 6], 5: [0, 1, 3, 4, 5], 8: [0, 1, 2, 7, 8]}, 1: {1: [1], 0: [1, 0], 3: [1, 3], 2: [1, 2], 9: [1, 3, 9], 4: [1, 3, 4], 7: [1, 2, 7], 6: [1, 2, 6], 5: [1, 3, 4, 5], 8: [1, 2, 7, 8]}, 3: {3: [3], 1: [3, 1], 9: [3, 9], 4: [3, 4], 0: [3, 1, 0], 2: [3, 1, 2], 5: [3, 4, 5], 7: [3, 1, 2, 7], 6: [3, 1, 2, 6], 8: [3, 1, 2, 7, 8]}, 2: {2: [2], 1: [2, 1], 7: [2, 7], 6: [2, 6], 4: [2, 4], 0: [2, 1, 0], 3: [2, 1, 3], 8: [2, 7, 8], 5: [2, 4, 5], 9: [2, 1, 3, 9]}, 7: {7: [7], 2: [7, 2], 8: [7, 8], 1: [7, 2, 1], 6: [7, 2, 6], 4: [7, 2, 4], 0: [7, 2, 1, 0], 3: [7, 2, 1, 3], 5: [7, 2, 4, 5], 9: [7, 2, 1, 3, 9]}, 6: {6: [6], 2: [6, 2], 1: [6, 2, 1], 7: [6, 2, 7], 4: [6, 2, 4], 0: [6, 2, 1, 0], 3: [6, 2, 1, 3], 8: [6, 2, 7, 8], 5: [6, 2, 4, 5], 9: [6, 2, 1, 3, 9]}, 4: {4: [4], 2: [4, 2], 3: [4, 3], 5: [4, 5], 1: [4, 2, 1], 7: [4, 2, 7], 6: [4, 2, 6], 9: [4, 3, 9], 0: [4, 2, 1, 0], 8: [4, 2, 7, 8]}, 9: {9: [9], 3: [9, 3], 1: [9, 3, 1], 4: [9, 3, 4], 0: [9, 3, 1, 0], 2: [9, 3, 1, 2], 5: [9, 3, 4, 5], 7: [9, 3, 1, 2, 7], 6: [9, 3, 1, 2, 6], 8: [9, 3, 1, 2, 7, 8]}, 5: {5: [5], 4: [5, 4], 2: [5, 4, 2], 3: [5, 4, 3], 1: [5, 4, 2, 1], 7: [5, 4, 2, 7], 6: [5, 4, 2, 6], 9: [5, 4, 3, 9], 0: [5, 4, 2, 1, 0], 8: [5, 4, 2, 7, 8]}, 8: {8: [8], 7: [8, 7], 2: [8, 7, 2], 1: [8, 7, 2, 1], 6: [8, 7, 2, 6], 4: [8, 7, 2, 4], 0: [8, 7, 2, 1, 0], 3: [8, 7, 2, 1, 3], 5: [8, 7, 2, 4, 5], 9: [8, 7, 2, 1, 3, 9]}}\n",
      "[1, 3, 4, 5]\n",
      "3\n"
     ]
    }
   ],
   "source": [
    "shortestMulti = nx.johnson(MG)\n",
    "print(shortestMulti)\n",
    "print(shortestMulti[1][5])\n",
    "print(shortestMulti[1][5][1])"
   ]
  },
  {
   "cell_type": "code",
   "execution_count": 73,
   "metadata": {},
   "outputs": [],
   "source": [
    "class Chromosome:\n",
    "    def __init__(self, nodes):\n",
    "        self.nodes = nodes\n",
    "        random.shuffle(self.nodes)       \n",
    "        \n",
    "    \n",
    "    def shuffleGenes(self):\n",
    "        print(\"Before :\", self.nodes)\n",
    "        random.shuffle(self.nodes)\n",
    "        print(\"After :\", self.nodes) \n",
    "        \n",
    "        \n",
    "    #Order Changing Mutation, 1 is selected thanks to Pm probability then exhanged with the other node(cant duplicate)\n",
    "    def mutationGene(self, Pm):\n",
    "        self.Pm = Pm\n",
    "        print(Pm)\n",
    "        for i in self.nodes:\n",
    "            self.randMutate = random.random()\n",
    "            print(\"rand = \", self.randMutate)\n",
    "            print(\"node = \",i)\n",
    "            if self.randMutate < self.Pm:\n",
    "                self.a = random.randint(0,len(self.nodes)-1)\n",
    "                print('self.a = ', self.a)\n",
    "                print(\"Warning mutation, before = \", i)\n",
    "                self.nodes[[i, self.a]] = self.nodes[[self.a, i]]\n",
    "                print(\"Modified to = \", self.a)\n",
    "                print(self.nodes)\n",
    "                \n",
    "    \n",
    "    def fitnessScore(self):\n",
    "        return 0\n",
    "\n",
    "    def pathWay(self):\n",
    "        return 0\n",
    "        \n",
    "    def __repr__(self):\n",
    "        self.strNodes = \"Chromosome :\"\n",
    "        for i in self.nodes:\n",
    "            self.node = str(i)\n",
    "            self.strNodes = self.strNodes + \"|\" + self.node\n",
    "        self.strNodes = self.strNodes + \"|\"\n",
    "        return self.strNodes    "
   ]
  },
  {
   "cell_type": "code",
   "execution_count": 76,
   "metadata": {},
   "outputs": [],
   "source": [
    "#Crossover PErmutation Encoding (1)ABC DEF + (2)DAB CFE --> ABC(1) DFE (in the order of the 2d gene)\n",
    "def crossoverPermutation(chromo1, chromo2):\n",
    "    lenChromo = int(len(chromo1.nodes) / 2)\n",
    "    childrenChr = chromo1.nodes[0:lenChromo]\n",
    "    print(chromo1.nodes)\n",
    "    print(chromo2.nodes)\n",
    "    print(childrenChr)\n",
    "    for i in chromo2.nodes:\n",
    "        print(i)\n",
    "        if i not in childrenChr:\n",
    "            childrenChr = np.append(childrenChr, [i])\n",
    "    print(childrenChr)\n",
    "    return childrenChr\n",
    "    "
   ]
  },
  {
   "cell_type": "code",
   "execution_count": 11,
   "metadata": {},
   "outputs": [],
   "source": [
    "def populationGeneration(popsize, nodeList):\n",
    "    population = []\n",
    "    for i in range(0,popsize,1):\n",
    "        population = population + [Chromosome(nodeList.unique())]\n",
    "    return population"
   ]
  },
  {
   "cell_type": "code",
   "execution_count": 12,
   "metadata": {},
   "outputs": [],
   "source": [
    "#function can merge 2 list where last element of one(a) is the first element of the second(b)\n",
    "#for example [1,2,3,4] + [4,5,6] = [1,2,3,4,5,6]\n",
    "def merge(a, b):\n",
    "    c = a[:-1] + b[:]\n",
    "    return c\n",
    "    "
   ]
  },
  {
   "cell_type": "code",
   "execution_count": 79,
   "metadata": {},
   "outputs": [
    {
     "data": {
      "text/plain": [
       "[Chromosome :|8|0|3|9|6|4|7|2|5|1|,\n",
       " Chromosome :|3|9|5|4|7|2|8|1|6|0|,\n",
       " Chromosome :|4|3|0|1|9|6|5|2|8|7|]"
      ]
     },
     "execution_count": 79,
     "metadata": {},
     "output_type": "execute_result"
    }
   ],
   "source": [
    "population = populationGeneration(3, df.Station)\n",
    "population"
   ]
  },
  {
   "cell_type": "code",
   "execution_count": 75,
   "metadata": {},
   "outputs": [
    {
     "name": "stdout",
     "output_type": "stream",
     "text": [
      "0.3\n",
      "rand =  0.6971272831903937\n",
      "node =  5\n",
      "rand =  0.773227592071395\n",
      "node =  4\n",
      "rand =  0.8905275622310547\n",
      "node =  6\n",
      "rand =  0.9902371443342229\n",
      "node =  0\n",
      "rand =  0.47172662618962913\n",
      "node =  7\n",
      "rand =  0.7411902901245878\n",
      "node =  1\n",
      "rand =  0.074279633257471\n",
      "node =  9\n",
      "self.a =  1\n",
      "Warning mutation, before =  9\n",
      "Modified to =  1\n",
      "[5 3 6 0 7 1 9 8 2 4]\n",
      "rand =  0.04139637998233736\n",
      "node =  8\n",
      "self.a =  0\n",
      "Warning mutation, before =  8\n",
      "Modified to =  0\n",
      "[2 3 6 0 7 1 9 8 5 4]\n",
      "rand =  0.16587902451723224\n",
      "node =  5\n",
      "self.a =  1\n",
      "Warning mutation, before =  5\n",
      "Modified to =  1\n",
      "[2 1 6 0 7 3 9 8 5 4]\n",
      "rand =  0.8317056380789071\n",
      "node =  4\n"
     ]
    }
   ],
   "source": [
    "population[1].mutationGene(0.3)"
   ]
  },
  {
   "cell_type": "code",
   "execution_count": null,
   "metadata": {},
   "outputs": [],
   "source": [
    "population"
   ]
  },
  {
   "cell_type": "code",
   "execution_count": null,
   "metadata": {},
   "outputs": [],
   "source": [
    "len(shortestMulti)"
   ]
  },
  {
   "cell_type": "code",
   "execution_count": null,
   "metadata": {},
   "outputs": [],
   "source": [
    "a = Chromosome(df.Station.unique())"
   ]
  },
  {
   "cell_type": "code",
   "execution_count": null,
   "metadata": {},
   "outputs": [],
   "source": [
    "print(a)"
   ]
  },
  {
   "cell_type": "code",
   "execution_count": null,
   "metadata": {},
   "outputs": [],
   "source": [
    "a.shuffleGenes()"
   ]
  },
  {
   "cell_type": "code",
   "execution_count": null,
   "metadata": {},
   "outputs": [],
   "source": [
    "a.mutationGene(0.1)"
   ]
  },
  {
   "cell_type": "code",
   "execution_count": null,
   "metadata": {},
   "outputs": [],
   "source": [
    "population"
   ]
  },
  {
   "cell_type": "code",
   "execution_count": null,
   "metadata": {},
   "outputs": [],
   "source": [
    "population[1]"
   ]
  },
  {
   "cell_type": "code",
   "execution_count": null,
   "metadata": {},
   "outputs": [],
   "source": [
    "population[1].shuffleGenes()"
   ]
  },
  {
   "cell_type": "code",
   "execution_count": null,
   "metadata": {},
   "outputs": [],
   "source": [
    "random.random()"
   ]
  },
  {
   "cell_type": "code",
   "execution_count": null,
   "metadata": {},
   "outputs": [],
   "source": [
    "a = [1,2,3]\n",
    "b = [3,5]"
   ]
  },
  {
   "cell_type": "code",
   "execution_count": null,
   "metadata": {},
   "outputs": [],
   "source": [
    "c = [x for x in a if x not in b]"
   ]
  },
  {
   "cell_type": "code",
   "execution_count": null,
   "metadata": {},
   "outputs": [],
   "source": [
    "a[:-1]"
   ]
  },
  {
   "cell_type": "code",
   "execution_count": null,
   "metadata": {},
   "outputs": [],
   "source": [
    "merge(a,b)"
   ]
  },
  {
   "cell_type": "code",
   "execution_count": null,
   "metadata": {},
   "outputs": [],
   "source": [
    "population[1]"
   ]
  },
  {
   "cell_type": "code",
   "execution_count": 80,
   "metadata": {},
   "outputs": [
    {
     "name": "stdout",
     "output_type": "stream",
     "text": [
      "[3 9 5 4 7 2 8 1 6 0]\n",
      "[4 3 0 1 9 6 5 2 8 7]\n",
      "[3 9 5 4 7]\n",
      "4\n",
      "3\n",
      "0\n",
      "1\n",
      "9\n",
      "6\n",
      "5\n",
      "2\n",
      "8\n",
      "7\n",
      "[3 9 5 4 7 0 1 6 2 8]\n"
     ]
    },
    {
     "data": {
      "text/plain": [
       "Chromosome :|1|8|7|0|2|6|3|4|5|9|"
      ]
     },
     "execution_count": 80,
     "metadata": {},
     "output_type": "execute_result"
    }
   ],
   "source": [
    "Chromosome(crossoverPermutation(population[1], population[2]))"
   ]
  },
  {
   "cell_type": "code",
   "execution_count": 44,
   "metadata": {},
   "outputs": [],
   "source": [
    "zz = Chromosome([1,2,3])"
   ]
  },
  {
   "cell_type": "code",
   "execution_count": null,
   "metadata": {},
   "outputs": [],
   "source": [
    "crossover(zz,population[2])"
   ]
  },
  {
   "cell_type": "code",
   "execution_count": null,
   "metadata": {},
   "outputs": [],
   "source": [
    "for i in range(0, 10):\n",
    "    print(random.randint(0,3))"
   ]
  },
  {
   "cell_type": "code",
   "execution_count": null,
   "metadata": {},
   "outputs": [],
   "source": [
    "l = np.array([1,2,3])\n",
    "print(l)\n"
   ]
  },
  {
   "cell_type": "code",
   "execution_count": 29,
   "metadata": {},
   "outputs": [],
   "source": [
    "a = [10, 20, 30, 40, 50, 60]\n"
   ]
  },
  {
   "cell_type": "code",
   "execution_count": 30,
   "metadata": {},
   "outputs": [
    {
     "data": {
      "text/plain": [
       "[10, 20, 30]"
      ]
     },
     "execution_count": 30,
     "metadata": {},
     "output_type": "execute_result"
    }
   ],
   "source": [
    "a[0:3]"
   ]
  },
  {
   "cell_type": "code",
   "execution_count": null,
   "metadata": {},
   "outputs": [],
   "source": []
  }
 ],
 "metadata": {
  "kernelspec": {
   "display_name": "Python 3",
   "language": "python",
   "name": "python3"
  },
  "language_info": {
   "codemirror_mode": {
    "name": "ipython",
    "version": 3
   },
   "file_extension": ".py",
   "mimetype": "text/x-python",
   "name": "python",
   "nbconvert_exporter": "python",
   "pygments_lexer": "ipython3",
   "version": "3.6.4"
  }
 },
 "nbformat": 4,
 "nbformat_minor": 2
}
