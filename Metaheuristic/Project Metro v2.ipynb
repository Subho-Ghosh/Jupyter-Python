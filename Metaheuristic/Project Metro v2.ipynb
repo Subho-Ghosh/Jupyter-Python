{
 "cells": [
  {
   "cell_type": "code",
   "execution_count": 180,
   "metadata": {},
   "outputs": [],
   "source": [
    "import networkx as nx\n",
    "import numpy as np\n",
    "import pandas as pd\n",
    "import time\n",
    "import matplotlib.pyplot as plt\n",
    "import random\n",
    "import copy\n",
    "import heapq"
   ]
  },
  {
   "cell_type": "code",
   "execution_count": 2,
   "metadata": {},
   "outputs": [
    {
     "data": {
      "text/html": [
       "<div>\n",
       "<style scoped>\n",
       "    .dataframe tbody tr th:only-of-type {\n",
       "        vertical-align: middle;\n",
       "    }\n",
       "\n",
       "    .dataframe tbody tr th {\n",
       "        vertical-align: top;\n",
       "    }\n",
       "\n",
       "    .dataframe thead th {\n",
       "        text-align: right;\n",
       "    }\n",
       "</style>\n",
       "<table border=\"1\" class=\"dataframe\">\n",
       "  <thead>\n",
       "    <tr style=\"text-align: right;\">\n",
       "      <th></th>\n",
       "      <th>Station</th>\n",
       "      <th>Connection</th>\n",
       "      <th>Time</th>\n",
       "      <th>Name</th>\n",
       "    </tr>\n",
       "  </thead>\n",
       "  <tbody>\n",
       "    <tr>\n",
       "      <th>0</th>\n",
       "      <td>0</td>\n",
       "      <td>1</td>\n",
       "      <td>10</td>\n",
       "      <td>A</td>\n",
       "    </tr>\n",
       "    <tr>\n",
       "      <th>1</th>\n",
       "      <td>1</td>\n",
       "      <td>3</td>\n",
       "      <td>10</td>\n",
       "      <td>B</td>\n",
       "    </tr>\n",
       "    <tr>\n",
       "      <th>2</th>\n",
       "      <td>1</td>\n",
       "      <td>2</td>\n",
       "      <td>10</td>\n",
       "      <td>B</td>\n",
       "    </tr>\n",
       "    <tr>\n",
       "      <th>3</th>\n",
       "      <td>2</td>\n",
       "      <td>7</td>\n",
       "      <td>10</td>\n",
       "      <td>C</td>\n",
       "    </tr>\n",
       "    <tr>\n",
       "      <th>4</th>\n",
       "      <td>2</td>\n",
       "      <td>6</td>\n",
       "      <td>10</td>\n",
       "      <td>C</td>\n",
       "    </tr>\n",
       "    <tr>\n",
       "      <th>5</th>\n",
       "      <td>2</td>\n",
       "      <td>4</td>\n",
       "      <td>10</td>\n",
       "      <td>C</td>\n",
       "    </tr>\n",
       "    <tr>\n",
       "      <th>6</th>\n",
       "      <td>2</td>\n",
       "      <td>1</td>\n",
       "      <td>10</td>\n",
       "      <td>C</td>\n",
       "    </tr>\n",
       "    <tr>\n",
       "      <th>7</th>\n",
       "      <td>3</td>\n",
       "      <td>9</td>\n",
       "      <td>10</td>\n",
       "      <td>D</td>\n",
       "    </tr>\n",
       "    <tr>\n",
       "      <th>8</th>\n",
       "      <td>3</td>\n",
       "      <td>4</td>\n",
       "      <td>10</td>\n",
       "      <td>D</td>\n",
       "    </tr>\n",
       "    <tr>\n",
       "      <th>9</th>\n",
       "      <td>3</td>\n",
       "      <td>1</td>\n",
       "      <td>10</td>\n",
       "      <td>D</td>\n",
       "    </tr>\n",
       "    <tr>\n",
       "      <th>10</th>\n",
       "      <td>4</td>\n",
       "      <td>5</td>\n",
       "      <td>10</td>\n",
       "      <td>E</td>\n",
       "    </tr>\n",
       "    <tr>\n",
       "      <th>11</th>\n",
       "      <td>4</td>\n",
       "      <td>3</td>\n",
       "      <td>10</td>\n",
       "      <td>E</td>\n",
       "    </tr>\n",
       "    <tr>\n",
       "      <th>12</th>\n",
       "      <td>4</td>\n",
       "      <td>2</td>\n",
       "      <td>10</td>\n",
       "      <td>E</td>\n",
       "    </tr>\n",
       "    <tr>\n",
       "      <th>13</th>\n",
       "      <td>5</td>\n",
       "      <td>4</td>\n",
       "      <td>10</td>\n",
       "      <td>F</td>\n",
       "    </tr>\n",
       "    <tr>\n",
       "      <th>14</th>\n",
       "      <td>6</td>\n",
       "      <td>2</td>\n",
       "      <td>10</td>\n",
       "      <td>G</td>\n",
       "    </tr>\n",
       "    <tr>\n",
       "      <th>15</th>\n",
       "      <td>7</td>\n",
       "      <td>2</td>\n",
       "      <td>10</td>\n",
       "      <td>H</td>\n",
       "    </tr>\n",
       "    <tr>\n",
       "      <th>16</th>\n",
       "      <td>7</td>\n",
       "      <td>8</td>\n",
       "      <td>10</td>\n",
       "      <td>H</td>\n",
       "    </tr>\n",
       "    <tr>\n",
       "      <th>17</th>\n",
       "      <td>8</td>\n",
       "      <td>7</td>\n",
       "      <td>10</td>\n",
       "      <td>I</td>\n",
       "    </tr>\n",
       "    <tr>\n",
       "      <th>18</th>\n",
       "      <td>9</td>\n",
       "      <td>3</td>\n",
       "      <td>10</td>\n",
       "      <td>J</td>\n",
       "    </tr>\n",
       "  </tbody>\n",
       "</table>\n",
       "</div>"
      ],
      "text/plain": [
       "    Station  Connection  Time Name\n",
       "0         0           1    10    A\n",
       "1         1           3    10    B\n",
       "2         1           2    10    B\n",
       "3         2           7    10    C\n",
       "4         2           6    10    C\n",
       "5         2           4    10    C\n",
       "6         2           1    10    C\n",
       "7         3           9    10    D\n",
       "8         3           4    10    D\n",
       "9         3           1    10    D\n",
       "10        4           5    10    E\n",
       "11        4           3    10    E\n",
       "12        4           2    10    E\n",
       "13        5           4    10    F\n",
       "14        6           2    10    G\n",
       "15        7           2    10    H\n",
       "16        7           8    10    H\n",
       "17        8           7    10    I\n",
       "18        9           3    10    J"
      ]
     },
     "execution_count": 2,
     "metadata": {},
     "output_type": "execute_result"
    }
   ],
   "source": [
    "df = pd.read_csv('C:/Projects IT/Python/Projet Metaheuristic/test.csv', sep =';')\n",
    "nameTable = pd.read_csv('C:/Projects IT/Python/Projet Metaheuristic/indexStation.csv', sep =';')\n",
    "\n",
    "df"
   ]
  },
  {
   "cell_type": "code",
   "execution_count": 3,
   "metadata": {},
   "outputs": [],
   "source": [
    "MG = nx.MultiGraph()"
   ]
  },
  {
   "cell_type": "code",
   "execution_count": 4,
   "metadata": {},
   "outputs": [],
   "source": [
    "for i in range(0, len(df.Station)):\n",
    "    MG.add_edge(df.Station[i], df.Connection[i], weight=df.Time[i])"
   ]
  },
  {
   "cell_type": "code",
   "execution_count": 5,
   "metadata": {},
   "outputs": [
    {
     "data": {
      "text/plain": [
       "<networkx.classes.multigraph.MultiGraph at 0x1895081d4e0>"
      ]
     },
     "execution_count": 5,
     "metadata": {},
     "output_type": "execute_result"
    }
   ],
   "source": [
    "MG"
   ]
  },
  {
   "cell_type": "code",
   "execution_count": 6,
   "metadata": {},
   "outputs": [
    {
     "name": "stdout",
     "output_type": "stream",
     "text": [
      "{0: {1: {0: {'weight': 10}}}, 1: {0: {0: {'weight': 10}}, 3: {0: {'weight': 10}, 1: {'weight': 10}}, 2: {0: {'weight': 10}, 1: {'weight': 10}}}, 3: {1: {0: {'weight': 10}, 1: {'weight': 10}}, 9: {0: {'weight': 10}, 1: {'weight': 10}}, 4: {0: {'weight': 10}, 1: {'weight': 10}}}, 2: {1: {0: {'weight': 10}, 1: {'weight': 10}}, 7: {0: {'weight': 10}, 1: {'weight': 10}}, 6: {0: {'weight': 10}, 1: {'weight': 10}}, 4: {0: {'weight': 10}, 1: {'weight': 10}}}, 7: {2: {0: {'weight': 10}, 1: {'weight': 10}}, 8: {0: {'weight': 10}, 1: {'weight': 10}}}, 6: {2: {0: {'weight': 10}, 1: {'weight': 10}}}, 4: {2: {0: {'weight': 10}, 1: {'weight': 10}}, 3: {0: {'weight': 10}, 1: {'weight': 10}}, 5: {0: {'weight': 10}, 1: {'weight': 10}}}, 9: {3: {0: {'weight': 10}, 1: {'weight': 10}}}, 5: {4: {0: {'weight': 10}, 1: {'weight': 10}}}, 8: {7: {0: {'weight': 10}, 1: {'weight': 10}}}}\n"
     ]
    }
   ],
   "source": [
    "print(MG.adj)"
   ]
  },
  {
   "cell_type": "code",
   "execution_count": 7,
   "metadata": {},
   "outputs": [
    {
     "data": {
      "image/png": "[encoded data removed]",
      "text/plain": [
       "<matplotlib.figure.Figure at 0x1895081d358>"
      ]
     },
     "metadata": {},
     "output_type": "display_data"
    }
   ],
   "source": [
    "nx.draw(MG, label=True)\n",
    "plt.show()"
   ]
  },
  {
   "cell_type": "code",
   "execution_count": 8,
   "metadata": {},
   "outputs": [
    {
     "name": "stdout",
     "output_type": "stream",
     "text": [
      "{0: {0: [0], 1: [0, 1], 3: [0, 1, 3], 2: [0, 1, 2], 9: [0, 1, 3, 9], 4: [0, 1, 3, 4], 7: [0, 1, 2, 7], 6: [0, 1, 2, 6], 5: [0, 1, 3, 4, 5], 8: [0, 1, 2, 7, 8]}, 1: {1: [1], 0: [1, 0], 3: [1, 3], 2: [1, 2], 9: [1, 3, 9], 4: [1, 3, 4], 7: [1, 2, 7], 6: [1, 2, 6], 5: [1, 3, 4, 5], 8: [1, 2, 7, 8]}, 3: {3: [3], 1: [3, 1], 9: [3, 9], 4: [3, 4], 0: [3, 1, 0], 2: [3, 1, 2], 5: [3, 4, 5], 7: [3, 1, 2, 7], 6: [3, 1, 2, 6], 8: [3, 1, 2, 7, 8]}, 2: {2: [2], 1: [2, 1], 7: [2, 7], 6: [2, 6], 4: [2, 4], 0: [2, 1, 0], 3: [2, 1, 3], 8: [2, 7, 8], 5: [2, 4, 5], 9: [2, 1, 3, 9]}, 7: {7: [7], 2: [7, 2], 8: [7, 8], 1: [7, 2, 1], 6: [7, 2, 6], 4: [7, 2, 4], 0: [7, 2, 1, 0], 3: [7, 2, 1, 3], 5: [7, 2, 4, 5], 9: [7, 2, 1, 3, 9]}, 6: {6: [6], 2: [6, 2], 1: [6, 2, 1], 7: [6, 2, 7], 4: [6, 2, 4], 0: [6, 2, 1, 0], 3: [6, 2, 1, 3], 8: [6, 2, 7, 8], 5: [6, 2, 4, 5], 9: [6, 2, 1, 3, 9]}, 4: {4: [4], 2: [4, 2], 3: [4, 3], 5: [4, 5], 1: [4, 2, 1], 7: [4, 2, 7], 6: [4, 2, 6], 9: [4, 3, 9], 0: [4, 2, 1, 0], 8: [4, 2, 7, 8]}, 9: {9: [9], 3: [9, 3], 1: [9, 3, 1], 4: [9, 3, 4], 0: [9, 3, 1, 0], 2: [9, 3, 1, 2], 5: [9, 3, 4, 5], 7: [9, 3, 1, 2, 7], 6: [9, 3, 1, 2, 6], 8: [9, 3, 1, 2, 7, 8]}, 5: {5: [5], 4: [5, 4], 2: [5, 4, 2], 3: [5, 4, 3], 1: [5, 4, 2, 1], 7: [5, 4, 2, 7], 6: [5, 4, 2, 6], 9: [5, 4, 3, 9], 0: [5, 4, 2, 1, 0], 8: [5, 4, 2, 7, 8]}, 8: {8: [8], 7: [8, 7], 2: [8, 7, 2], 1: [8, 7, 2, 1], 6: [8, 7, 2, 6], 4: [8, 7, 2, 4], 0: [8, 7, 2, 1, 0], 3: [8, 7, 2, 1, 3], 5: [8, 7, 2, 4, 5], 9: [8, 7, 2, 1, 3, 9]}}\n",
      "[1, 3, 4, 5]\n",
      "3\n"
     ]
    }
   ],
   "source": [
    "shortestMulti = nx.johnson(MG)\n",
    "print(shortestMulti)\n",
    "print(shortestMulti[1][5])\n",
    "print(shortestMulti[1][5][1])"
   ]
  },
  {
   "cell_type": "code",
   "execution_count": 166,
   "metadata": {},
   "outputs": [],
   "source": [
    "class Chromosome:\n",
    "    def __init__(self, nodes):\n",
    "        self.nodes = nodes       \n",
    "    \n",
    "    def shuffleGenes(self):\n",
    "        random.shuffle(self.nodes)   \n",
    "    \n",
    "    #Order Changing Mutation, 1 gene is selected thanks to Pm probability then swapped with the other node(cant duplicate)\n",
    "    def mutationGene(self, Pm):\n",
    "        self.Pm = Pm\n",
    "        print(Pm)\n",
    "        for i in range(0, len(self.nodes)):\n",
    "            print(i)\n",
    "            self.randMutate = random.random()\n",
    "            print(\"rand = \", self.randMutate)\n",
    "            print(\"node = \",i)\n",
    "            if self.randMutate < self.Pm:\n",
    "                self.mutateTo = random.randint(0,len(self.nodes)-1)\n",
    "                print(\"mutate to\", self.mutateTo)\n",
    "                self.tmpGene = copy.copy(self.nodes[i])\n",
    "                print(\"node being changed : \",self.nodes[i])\n",
    "                self.nodes = np.where(self.nodes == self.mutateTo, self.tmpGene, self.nodes)\n",
    "                self.nodes[i] = self.mutateTo\n",
    "                print(self.nodes)\n",
    "\n",
    "    def pathWay(self, Multigraph): #Multigraph come from the Johnson Networkx calculation for shortest path between 2 nodes\n",
    "        self.Multigraph = Multigraph\n",
    "        self.totalPath = []\n",
    "        for i in range(0, len(self.nodes)-1):        \n",
    "            if i+1 is not None:\n",
    "                self.totalPath = merge(self.totalPath, self.Multigraph[self.nodes[i]][self.nodes[i+1]])   \n",
    "        return self.totalPath\n",
    "        \n",
    "    def __repr__(self):\n",
    "        self.strNodes = \"Chromosome :\"\n",
    "        for i in self.nodes:\n",
    "            self.node = str(i)\n",
    "            self.strNodes = self.strNodes + \"|\" + self.node\n",
    "        self.strNodes = self.strNodes + \"|\"\n",
    "        return self.strNodes"
   ]
  },
  {
   "cell_type": "code",
   "execution_count": 220,
   "metadata": {},
   "outputs": [],
   "source": [
    "#Crossover PErmutation Encoding (1)ABC DEF + (2)DAB CFE --> ABC(1) DFE (in the order of the 2d chromosome genes)\n",
    "def crossoverPermutation(chromo1, chromo2):\n",
    "    lenChromo = int(len(chromo1.nodes) / 2)\n",
    "    childrenChr = chromo1.nodes[0:lenChromo]\n",
    "    for i in chromo2.nodes:\n",
    "        if i not in childrenChr:\n",
    "            childrenChr = np.append(childrenChr, [i])\n",
    "    return childrenChr\n",
    "    "
   ]
  },
  {
   "cell_type": "code",
   "execution_count": 105,
   "metadata": {},
   "outputs": [],
   "source": [
    "def populationGeneration(popsize, nodeList):\n",
    "    population = []\n",
    "    for i in range(0,popsize,1):\n",
    "        nodeList = np.unique(nodeList, axis=0)\n",
    "        random.shuffle(nodeList)\n",
    "        population = population + [Chromosome(nodeList)]\n",
    "    return population"
   ]
  },
  {
   "cell_type": "code",
   "execution_count": 12,
   "metadata": {},
   "outputs": [],
   "source": [
    "#function can merge 2 list where last element of one(a) is the first element of the second(b)\n",
    "#for example [1,2,3,4] + [4,5,6] = [1,2,3,4,5,6]\n",
    "def merge(a, b):\n",
    "    c = a[:-1] + b[:]\n",
    "    return c\n",
    "    "
   ]
  },
  {
   "cell_type": "code",
   "execution_count": 167,
   "metadata": {},
   "outputs": [],
   "source": [
    "def fitnessScore(uniqueNodeList, chromosome, MultiG):\n",
    "    fitScore = len(uniqueNodeList.unique()) / len(chromosome.pathWay(MultiG))\n",
    "    return fitScore"
   ]
  },
  {
   "cell_type": "code",
   "execution_count": 169,
   "metadata": {},
   "outputs": [
    {
     "data": {
      "text/plain": [
       "[Chromosome :|5|2|8|1|0|9|4|3|7|6|,\n",
       " Chromosome :|2|3|5|7|6|9|4|8|1|0|,\n",
       " Chromosome :|6|1|5|2|9|0|3|4|8|7|]"
      ]
     },
     "execution_count": 169,
     "metadata": {},
     "output_type": "execute_result"
    }
   ],
   "source": [
    "population = populationGeneration(3, df.Station)\n",
    "population"
   ]
  },
  {
   "cell_type": "code",
   "execution_count": 170,
   "metadata": {},
   "outputs": [
    {
     "data": {
      "text/plain": [
       "[2, 1, 3, 4, 5, 4, 2, 7, 2, 6, 2, 1, 3, 9, 3, 4, 2, 7, 8, 7, 2, 1, 0]"
      ]
     },
     "execution_count": 170,
     "metadata": {},
     "output_type": "execute_result"
    }
   ],
   "source": [
    "population[1].pathWay(shortestMulti)"
   ]
  },
  {
   "cell_type": "code",
   "execution_count": 171,
   "metadata": {},
   "outputs": [
    {
     "data": {
      "text/plain": [
       "0.43478260869565216"
      ]
     },
     "execution_count": 171,
     "metadata": {},
     "output_type": "execute_result"
    }
   ],
   "source": [
    "fitnessScore(df.Station, population[1], shortestMulti)"
   ]
  },
  {
   "cell_type": "code",
   "execution_count": 107,
   "metadata": {},
   "outputs": [
    {
     "name": "stdout",
     "output_type": "stream",
     "text": [
      "0.5\n",
      "0\n",
      "rand =  0.6134563002869728\n",
      "node =  0\n",
      "1\n",
      "rand =  0.002570461238781019\n",
      "node =  1\n",
      "mutate to 9\n",
      "node being changed :  0\n",
      "[6 9 0 4 2 8 3 5 1 7]\n",
      "2\n",
      "rand =  0.5086703436016567\n",
      "node =  2\n",
      "3\n",
      "rand =  0.798341360103353\n",
      "node =  3\n",
      "4\n",
      "rand =  0.49531385568021613\n",
      "node =  4\n",
      "mutate to 2\n",
      "node being changed :  2\n",
      "[6 9 0 4 2 8 3 5 1 7]\n",
      "5\n",
      "rand =  0.4792497685816637\n",
      "node =  5\n",
      "mutate to 3\n",
      "node being changed :  8\n",
      "[6 9 0 4 2 3 8 5 1 7]\n",
      "6\n",
      "rand =  0.6358437206645996\n",
      "node =  6\n",
      "7\n",
      "rand =  0.6938489542873851\n",
      "node =  7\n",
      "8\n",
      "rand =  0.051395922914695746\n",
      "node =  8\n",
      "mutate to 2\n",
      "node being changed :  1\n",
      "[6 9 0 4 1 3 8 5 2 7]\n",
      "9\n",
      "rand =  0.5613147559616106\n",
      "node =  9\n"
     ]
    }
   ],
   "source": [
    "population[1].mutationGene(0.5)"
   ]
  },
  {
   "cell_type": "code",
   "execution_count": 248,
   "metadata": {},
   "outputs": [
    {
     "data": {
      "text/plain": [
       "Chromosome :|6|7|8|4|2|9|3|0|1|5|"
      ]
     },
     "execution_count": 248,
     "metadata": {},
     "output_type": "execute_result"
    }
   ],
   "source": [
    "Chromosome(crossoverPermutation(population[1], population[2]))"
   ]
  },
  {
   "cell_type": "code",
   "execution_count": 249,
   "metadata": {},
   "outputs": [
    {
     "name": "stdout",
     "output_type": "stream",
     "text": [
      "[1, 5, 3, 4, 6]\n",
      "[0.41666667 0.55555556 0.43478261 0.45454545 0.45454545 0.55555556\n",
      " 0.45454545 0.38461538 0.38461538 0.38461538]\n",
      "[Chromosome :|8|6|2|7|3|5|4|9|0|1| Chromosome :|9|3|4|5|6|0|2|7|1|8|\n",
      " Chromosome :|3|0|4|1|2|8|7|5|9|6| Chromosome :|3|0|6|1|8|4|5|2|7|9|\n",
      " Chromosome :|8|2|9|5|1|3|4|0|7|6|]\n",
      "[0, 1, 2, 3, 4]\n",
      "[0.55555556 0.55555556 0.45454545 0.45454545 0.45454545 0.43478261]\n",
      "[Chromosome :|8|6|2|7|3|5|4|9|0|1| Chromosome :|9|3|4|5|6|0|2|7|1|8|\n",
      " Chromosome :|3|0|4|1|2|8|7|5|9|6| Chromosome :|3|0|6|1|8|4|5|2|7|9|\n",
      " Chromosome :|8|2|9|5|1|3|4|0|7|6|]\n",
      "[0, 1, 2, 3, 4]\n",
      "[0.55555556 0.55555556 0.45454545 0.45454545 0.45454545 0.43478261]\n",
      "[Chromosome :|8|6|2|7|3|5|4|9|0|1| Chromosome :|9|3|4|5|6|0|2|7|1|8|\n",
      " Chromosome :|3|0|4|1|2|8|7|5|9|6| Chromosome :|3|0|6|1|8|4|5|2|7|9|\n",
      " Chromosome :|8|2|9|5|1|3|4|0|7|6|]\n",
      "[0, 1, 2, 3, 4]\n",
      "[0.55555556 0.55555556 0.45454545 0.45454545 0.45454545 0.43478261]\n",
      "[Chromosome :|8|6|2|7|3|5|4|9|0|1| Chromosome :|9|3|4|5|6|0|2|7|1|8|\n",
      " Chromosome :|3|0|4|1|2|8|7|5|9|6| Chromosome :|3|0|6|1|8|4|5|2|7|9|\n",
      " Chromosome :|8|2|9|5|1|3|4|0|7|6|]\n",
      "[0, 1, 2, 3, 4]\n",
      "[0.55555556 0.55555556 0.45454545 0.45454545 0.45454545 0.43478261]\n",
      "[Chromosome :|8|6|2|7|3|5|4|9|0|1| Chromosome :|9|3|4|5|6|0|2|7|1|8|\n",
      " Chromosome :|3|0|4|1|2|8|7|5|9|6| Chromosome :|3|0|6|1|8|4|5|2|7|9|\n",
      " Chromosome :|8|2|9|5|1|3|4|0|7|6|]\n",
      "[0, 1, 2, 3, 4]\n",
      "[0.55555556 0.55555556 0.45454545 0.45454545 0.45454545 0.43478261]\n",
      "[Chromosome :|8|6|2|7|3|5|4|9|0|1| Chromosome :|9|3|4|5|6|0|2|7|1|8|\n",
      " Chromosome :|3|0|4|1|2|8|7|5|9|6| Chromosome :|3|0|6|1|8|4|5|2|7|9|\n",
      " Chromosome :|8|2|9|5|1|3|4|0|7|6|]\n",
      "[0, 1, 2, 3, 4]\n",
      "[0.55555556 0.55555556 0.45454545 0.45454545 0.45454545 0.43478261]\n",
      "[Chromosome :|8|6|2|7|3|5|4|9|0|1| Chromosome :|9|3|4|5|6|0|2|7|1|8|\n",
      " Chromosome :|3|0|4|1|2|8|7|5|9|6| Chromosome :|3|0|6|1|8|4|5|2|7|9|\n",
      " Chromosome :|8|2|9|5|1|3|4|0|7|6|]\n",
      "[0, 1, 2, 3, 4]\n",
      "[0.55555556 0.55555556 0.45454545 0.45454545 0.45454545 0.43478261]\n",
      "[Chromosome :|8|6|2|7|3|5|4|9|0|1| Chromosome :|9|3|4|5|6|0|2|7|1|8|\n",
      " Chromosome :|3|0|4|1|2|8|7|5|9|6| Chromosome :|3|0|6|1|8|4|5|2|7|9|\n",
      " Chromosome :|8|2|9|5|1|3|4|0|7|6|]\n",
      "[0, 1, 2, 3, 4]\n",
      "[0.55555556 0.55555556 0.45454545 0.45454545 0.45454545 0.43478261]\n",
      "[Chromosome :|8|6|2|7|3|5|4|9|0|1| Chromosome :|9|3|4|5|6|0|2|7|1|8|\n",
      " Chromosome :|3|0|4|1|2|8|7|5|9|6| Chromosome :|3|0|6|1|8|4|5|2|7|9|\n",
      " Chromosome :|8|2|9|5|1|3|4|0|7|6|]\n",
      "[0, 1, 2, 3, 4]\n",
      "[0.55555556 0.55555556 0.45454545 0.45454545 0.45454545 0.43478261]\n",
      "[Chromosome :|8|6|2|7|3|5|4|9|0|1| Chromosome :|9|3|4|5|6|0|2|7|1|8|\n",
      " Chromosome :|3|0|4|1|2|8|7|5|9|6| Chromosome :|3|0|6|1|8|4|5|2|7|9|\n",
      " Chromosome :|8|2|9|5|1|3|4|0|7|6|]\n",
      "[0.55555556 0.55555556 0.45454545 0.45454545 0.45454545 0.43478261]\n",
      "[Chromosome :|8|6|2|7|3|5|4|9|0|1| Chromosome :|9|3|4|5|6|0|2|7|1|8|\n",
      " Chromosome :|3|0|4|1|2|8|7|5|9|6| Chromosome :|3|0|6|1|8|4|5|2|7|9|\n",
      " Chromosome :|8|2|9|5|1|3|4|0|7|6| Chromosome :|8|2|9|5|1|6|7|3|4|0|]\n",
      "[Chromosome :|8|6|2|7|3|5|4|9|0|1| Chromosome :|9|3|4|5|6|0|2|7|1|8|\n",
      " Chromosome :|3|0|4|1|2|8|7|5|9|6| Chromosome :|3|0|6|1|8|4|5|2|7|9|\n",
      " Chromosome :|8|2|9|5|1|3|4|0|7|6|]\n"
     ]
    }
   ],
   "source": [
    "#MAIN LOOP\n",
    "population = populationGeneration(10, df.Station)\n",
    "for z in range(0,10):\n",
    "    fitList = np.array([])\n",
    "    for i in range(0,len(population)):\n",
    "        fitList = np.append(fitList, fitnessScore(df.Station, population[i], shortestMulti))\n",
    "    IndexfitBest = heapq.nlargest(5, range(len(fitList)), fitList.take)\n",
    "    print(IndexfitBest)\n",
    "    print(fitList)\n",
    "    population_best = np.take(population, IndexfitBest)\n",
    "    print(population_best)\n",
    "    for u in (0, len(population_best)-1):\n",
    "        child = Chromosome(crossoverPermutation(population_best[u], population[u+1]))\n",
    "        population = np.append(population_best, child)\n",
    "\n",
    "print(fitList)\n",
    "print(population)\n",
    "print(population_best)\n",
    "\n",
    "        \n",
    "        \n",
    "        \n",
    "    \n",
    "  "
   ]
  },
  {
   "cell_type": "code",
   "execution_count": 182,
   "metadata": {},
   "outputs": [
    {
     "data": {
      "text/plain": [
       "[4, 3, 1]"
      ]
     },
     "execution_count": 182,
     "metadata": {},
     "output_type": "execute_result"
    }
   ],
   "source": [
    "fff = np.array([1, 3, 2, 4, 5])\n",
    "heapq.nlargest(3, range(len(fff)), fff.take)"
   ]
  },
  {
   "cell_type": "code",
   "execution_count": 237,
   "metadata": {},
   "outputs": [
    {
     "data": {
      "text/plain": [
       "array([1, 2, 3, 7, 3])"
      ]
     },
     "execution_count": 237,
     "metadata": {},
     "output_type": "execute_result"
    }
   ],
   "source": [
    "a = np.array([1,2,3, 7])\n",
    "a = np.append(a, 3)\n",
    "a"
   ]
  },
  {
   "cell_type": "code",
   "execution_count": null,
   "metadata": {},
   "outputs": [],
   "source": []
  }
 ],
 "metadata": {
  "kernelspec": {
   "display_name": "Python 3",
   "language": "python",
   "name": "python3"
  },
  "language_info": {
   "codemirror_mode": {
    "name": "ipython",
    "version": 3
   },
   "file_extension": ".py",
   "mimetype": "text/x-python",
   "name": "python",
   "nbconvert_exporter": "python",
   "pygments_lexer": "ipython3",
   "version": "3.6.4"
  }
 },
 "nbformat": 4,
 "nbformat_minor": 2
}
