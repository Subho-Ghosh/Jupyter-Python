{
 "cells": [
  {
   "cell_type": "code",
   "execution_count": null,
   "metadata": {},
   "outputs": [],
   "source": [
    "#LAUNCH JUPYER WITH COMMAND BELOW OR IT MAY HAVE DIFFICULTY TO EXECUTE THE CODE"
   ]
  },
  {
   "cell_type": "markdown",
   "metadata": {},
   "source": [
    "jupyter notebook --NotebookApp.iopub_data_rate_limit=10000000"
   ]
  },
  {
   "cell_type": "code",
   "execution_count": null,
   "metadata": {},
   "outputs": [],
   "source": [
    "#LIBRARIES:\n",
    "#networkx : is a library used to create directional verteces that will be used in the Genetic Algorithm for optimization later\n",
    "#numpy : for array management\n",
    "#pandas : to load *.csv and convert data\n",
    "#time : to calculate time between iteration and global computation time\n",
    "#matplotlib.pyplot : for graphs\n",
    "#copy : for true copy of variables and arrays\n",
    "#heapq : used in main Loop in order to select best Chromosome from Genetic Algorithm iterations\n",
    "#math : for calculation"
   ]
  },
  {
   "cell_type": "code",
   "execution_count": null,
   "metadata": {},
   "outputs": [],
   "source": [
    "import networkx as nx\n",
    "import numpy as np\n",
    "import pandas as pd\n",
    "import time\n",
    "import matplotlib.pyplot as plt\n",
    "import random\n",
    "import copy\n",
    "import heapq\n",
    "import math"
   ]
  },
  {
   "cell_type": "code",
   "execution_count": null,
   "metadata": {},
   "outputs": [],
   "source": [
    "#ORIGINAL FILE WAS CONVERTED INTO DIFFERENT *.csv files\n",
    "#\"project.csv\" this is the table with all the connections between stations and the trip duration between\n",
    "#\"nameTable\" : table with the name of the stations and the index code seen in project.csv\n",
    "#\"outsideParis\" : list of the stations beyond the border of paris (\"Mairie d'Ivry\" for example)\n",
    "#insideParis\" : list of the stations inside paris\n",
    "#There are 376 rows in project corresponding to connections between 2 stations\n",
    "#There are 296 single name stations\n",
    "#There are 54 stations outside Paris\n",
    "#Finally, Inside Paris there 242 different stations with all a different name"
   ]
  },
  {
   "cell_type": "code",
   "execution_count": null,
   "metadata": {},
   "outputs": [],
   "source": [
    "df = pd.read_csv('C:/Projects IT/Python/Projet Metaheuristic/project_correction.csv', sep =';')\n",
    "nameTable = pd.read_csv('C:/Projects IT/Python/Projet Metaheuristic/indexStation.csv', sep =';')\n",
    "outsideParis = pd.read_csv('C:/Projects IT/Python/Projet Metaheuristic/indexStation_outsideParis.csv', sep =';')\n",
    "insideParis = pd.read_csv('C:/Projects IT/Python/Projet Metaheuristic/indexStationParis_corrected.csv', sep =';')\n",
    "\n",
    "df.tail(3)"
   ]
  },
  {
   "cell_type": "code",
   "execution_count": null,
   "metadata": {},
   "outputs": [],
   "source": [
    "df.dtypes"
   ]
  },
  {
   "cell_type": "code",
   "execution_count": null,
   "metadata": {},
   "outputs": [],
   "source": [
    "len(np.unique(insideParis.nameStation))"
   ]
  },
  {
   "cell_type": "code",
   "execution_count": null,
   "metadata": {},
   "outputs": [],
   "source": [
    "nameTable.head()"
   ]
  },
  {
   "cell_type": "code",
   "execution_count": null,
   "metadata": {},
   "outputs": [],
   "source": [
    "outsideParis.head(3)"
   ]
  },
  {
   "cell_type": "code",
   "execution_count": null,
   "metadata": {},
   "outputs": [],
   "source": [
    "#CREATION OF THE GRAPH with networkx, I use a Multiple directed graph, \n",
    "# it means that a node can have multiple connections with different nodes and the direction matters\n",
    "#for example 34 connect with 248 but 248 doesnt connect with 34"
   ]
  },
  {
   "cell_type": "code",
   "execution_count": null,
   "metadata": {},
   "outputs": [],
   "source": [
    "MG = nx.MultiDiGraph()"
   ]
  },
  {
   "cell_type": "code",
   "execution_count": null,
   "metadata": {},
   "outputs": [],
   "source": [
    "#CREATION OF THE EDGES\n",
    "#using the df table I create the edges inside the Graph named MG (see above), \n",
    "#the weight will be the Time spent between two stations"
   ]
  },
  {
   "cell_type": "code",
   "execution_count": null,
   "metadata": {},
   "outputs": [],
   "source": [
    "for i in range(0, len(df.Station)):\n",
    "    MG.add_edge(df.Station[i], df.Connection[i], weight=df.Time[i])"
   ]
  },
  {
   "cell_type": "code",
   "execution_count": null,
   "metadata": {},
   "outputs": [],
   "source": [
    "MG"
   ]
  },
  {
   "cell_type": "code",
   "execution_count": null,
   "metadata": {},
   "outputs": [],
   "source": [
    "#THE EDGES ARE REPRESENTED BY A DICTIONNARY"
   ]
  },
  {
   "cell_type": "code",
   "execution_count": null,
   "metadata": {
    "scrolled": false
   },
   "outputs": [],
   "source": [
    "print(MG.adj[0])"
   ]
  },
  {
   "cell_type": "code",
   "execution_count": null,
   "metadata": {},
   "outputs": [],
   "source": [
    "#networkx can plot a graph with connections and directions between different nodes"
   ]
  },
  {
   "cell_type": "code",
   "execution_count": null,
   "metadata": {},
   "outputs": [],
   "source": [
    "plt.figure(figsize=(12,12))\n",
    "nx.draw(MG, label=False)\n",
    "\n",
    "plt.show()"
   ]
  },
  {
   "cell_type": "code",
   "execution_count": null,
   "metadata": {},
   "outputs": [],
   "source": [
    "#The Johnson's algorithm will give shortest paths between stations for every verteces\n",
    "#I used it because it's fast, and usable with weight and directions"
   ]
  },
  {
   "cell_type": "markdown",
   "metadata": {},
   "source": [
    "https://en.wikipedia.org/wiki/Johnson%27s_algorithm"
   ]
  },
  {
   "cell_type": "code",
   "execution_count": null,
   "metadata": {},
   "outputs": [],
   "source": [
    "shortestMulti = nx.johnson(MG)"
   ]
  },
  {
   "cell_type": "code",
   "execution_count": null,
   "metadata": {},
   "outputs": [],
   "source": [
    "#EXAMPLE OF A SHORTEST PATH BETWEEN STATION 0 AND 375 thanks to the Johnson's Algorithm\n",
    "shortestMulti[0][375]"
   ]
  },
  {
   "cell_type": "code",
   "execution_count": null,
   "metadata": {},
   "outputs": [],
   "source": [
    "#MAIN CLASS DEFINITION: Chromosome, it represents a set of nodes(genes).\n",
    "#******-------------------------------------------------------------------******\n",
    "#the class function __ini__ is the constructor of the class, it demands a set of stations(index)\n",
    "#----------------------------------------------------------------------------\n",
    "#the shuffleGenes is a function in order to shuffle the nodes/genes in the chromosome\n",
    "#-------------------------------------------------------------------------------\n",
    "#mutationGene : is a fuction that permits to mutate some gene in the sequence of the chromosome, thanks to a probability  Pm.\n",
    "#the function \"reads\" the chromosome from the beginning, nade after node, then a probability is done (randomly), if it is below\n",
    "#a Threshold Pm that gene will be mutated\n",
    "#Mutation adds some randomness to a chromosome and brings some variety into the population\n",
    "#---------------------------------------------------------------------------------\n",
    "#pathWay : This function creates the optimal pathway between 2 nodes using the dictionnary created with networkx (see above)\n",
    "#For example between 2 nodes (3,47) the optimal pathway calculated by Johnson's algorithm \n",
    "#will be [3, 210, 95, 292, 361, 208, 333, 334, 323, 222, 221, 74, 195, 47]\n",
    "#THE CHROMOSOME IS ENCODED LIKE THAT\n",
    "#Chromosome  = |23|45|156|176 etc..... and pathway give the optimal path from 23 to 45, 45 to 156, 156 to 176...... \n",
    "#as a numpy.array\n",
    "#This way, the Genetic Algorithm can optimize the \"genes\" and there will always be a link between stations\n",
    "#-----------------------------------------\n",
    "#__repr__ : it's a function to overload the print function for an object of Chromosome's class\n",
    "#example\n",
    "#--------------------\n",
    "#test = Chromosome([1,2,3,4,5])\n",
    "#print(test)\n",
    "#output >> Chromosome :|1|2|3|4|5|"
   ]
  },
  {
   "cell_type": "code",
   "execution_count": null,
   "metadata": {},
   "outputs": [],
   "source": [
    "class Chromosome:\n",
    "    def __init__(self, nodes):\n",
    "        self.nodes = nodes       \n",
    "    \n",
    "    def shuffleGenes(self):\n",
    "        random.shuffle(self.nodes)   \n",
    "    \n",
    "    #Order Changing Mutation, 1 gene is selected thanks to Pm probability\n",
    "    def mutationGene(self, Pm, inParis):\n",
    "        self.inParis = inParis\n",
    "        self.Pm = Pm\n",
    "        for i in range(0, len(self.nodes)):\n",
    "            self.randMutate = random.random()\n",
    "            if self.randMutate < self.Pm:\n",
    "                self.indexMutation = random.randint(0,len(self.inParis)-1)\n",
    "                self.mutateTo = self.inParis[self.indexMutation]\n",
    "                self.nodes[i] = self.mutateTo\n",
    "\n",
    "\n",
    "    #each gene represents a shortest path between gene i and gene i+1\n",
    "    def pathWay(self, Multigraph): #Multigraph comes from the Johnson Networkx calculation for shortest path between 2 nodes\n",
    "        self.Multigraph = Multigraph\n",
    "        self.totalPath = []\n",
    "        for i in range(0, len(self.nodes)-1):        \n",
    "            if i+1 is not None:\n",
    "                self.totalPath = merge(self.totalPath, self.Multigraph[self.nodes[i]][self.nodes[i+1]])   \n",
    "        return self.totalPath       \n",
    "        \n",
    "    def __repr__(self):\n",
    "        self.strNodes = \"Chromosome :\"\n",
    "        for i in self.nodes:\n",
    "            self.node = str(i)\n",
    "            self.strNodes = self.strNodes + \"|\" + self.node\n",
    "        self.strNodes = self.strNodes + \"|\"\n",
    "        return self.strNodes"
   ]
  },
  {
   "cell_type": "code",
   "execution_count": null,
   "metadata": {},
   "outputs": [],
   "source": [
    "#FUNCTION PathwayDuration : calculate the path time for a chromosome\n",
    "#-----------------------------------------------------------------\n",
    "#PARAMETERS :\n",
    "#chromosome : the object of class Chromosome to use\n",
    "#multipath : the Dictionary of shortest path between nodes\n",
    "#mainDataframe : dataframe with connection between stations and traveling time (here it is called \"df\")\n",
    "#Returns the total time in seconds shouldnt be > 72000 (20 hours from 5AM to 1AM)"
   ]
  },
  {
   "cell_type": "code",
   "execution_count": null,
   "metadata": {},
   "outputs": [],
   "source": [
    "def PathwayDuration(chromosome, multipath, mainDataframe):\n",
    "    b = 0\n",
    "    for i in range(1, len(chromosome.pathWay(multipath))):\n",
    "        a = np.array(df['Time'].loc[(mainDataframe.Station == chromosome.pathWay(multipath)[i-1]) & \n",
    "                               (mainDataframe.Connection == chromosome.pathWay(multipath)[i])].values)\n",
    "        b = b + a \n",
    "    return int(b)"
   ]
  },
  {
   "cell_type": "code",
   "execution_count": null,
   "metadata": {},
   "outputs": [],
   "source": [
    "#FUNCTION crossoverSinglePoint:\n",
    "#A function that returns 1 child chromosome from 2 parents chromosomes\n",
    "#2 chromosomes are splitted halfway then for example\n",
    "#Chrom 1 = A|B|C|D and chrom2 = E|F|G|H then we obtain : A|B + G|H\n",
    "#Child1 = A|B|G|H and if you permute chromosomes in a second call you obtain child2 = E|F|C|D"
   ]
  },
  {
   "cell_type": "code",
   "execution_count": null,
   "metadata": {},
   "outputs": [],
   "source": [
    "def crossoverSinglePoint(chromo1, chromo2):\n",
    "    lenChromo = int(len(chromo1.nodes) / 2)\n",
    "    childrenChr = np.append(chromo1.nodes[0:lenChromo], chromo2.nodes[lenChromo:len(chromo1.nodes)])\n",
    "    return childrenChr    "
   ]
  },
  {
   "cell_type": "code",
   "execution_count": null,
   "metadata": {},
   "outputs": [],
   "source": [
    "#FUNCTION merge:\n",
    "#works with np.array\n",
    "#function can merge 2 list where last element of one(a) is the first element of the second(b)\n",
    "#for example [1,2,3,4] + [4,5,6] = [1,2,3,4,5,6]\n",
    "#"
   ]
  },
  {
   "cell_type": "code",
   "execution_count": null,
   "metadata": {},
   "outputs": [],
   "source": [
    "def merge(a, b): #a,b are numpy.array\n",
    "    c = a[:-1] + b[:]\n",
    "    return c    "
   ]
  },
  {
   "cell_type": "code",
   "execution_count": null,
   "metadata": {},
   "outputs": [],
   "source": [
    "#FUNCTION NewNameFit2\n",
    "#return the score to maximize, 1 = best answer, it means that all stations with a different name, have been visited\n",
    "#There are 242 stations inside paris with a different name, I divide unique name from the list \n",
    "#of the nodes by 242,in order to obtain the score.\n",
    "#the len() is here to prevent the pathway to go beyond 1200 stations visited \n",
    "#that could take more than 20 hours to visit all\n",
    "#Remark : fitScore = 0 if there is a station visited if the length of the chromosome goes beyond 1200(too long)"
   ]
  },
  {
   "cell_type": "code",
   "execution_count": null,
   "metadata": {},
   "outputs": [],
   "source": [
    "def NewNameFit2(uniqueNodeName, chromosome, MultiG, uniqueNodeIndex):\n",
    "    if len(chromosome.pathWay(MultiG)) < 1200:\n",
    "        NameList = np.array([])\n",
    "        for i in chromosome.pathWay(MultiG):\n",
    "            a, = np.where(uniqueNodeIndex == i)\n",
    "            NameList = np.append(NameList, uniqueNodeName[a])\n",
    "            fitScore = len(np.unique(NameList)) / 242 #number of unique station / total unique station(242)\n",
    "    else:\n",
    "        fitScore = 0 #score equals 0 if the pathway is too long\n",
    "    return fitScore"
   ]
  },
  {
   "cell_type": "code",
   "execution_count": null,
   "metadata": {},
   "outputs": [],
   "source": [
    "#***********________________________________________******************\n",
    "#***********___MAIN LOOP OF THE GENETIC ALGORITHM___******************\n",
    "#***********________________________________________******************\n",
    "#First a population is generated, a population is a set of chromosome with a sequence of different nodes/genes for each\n",
    "#population is an array of objects of class Chromosome()\n",
    "#population will evolve at each iteration of the genetic algorithm\n",
    "#*****-----------------------------------------------------------------\n",
    "#Then, from the initial population 2(could be changed) best scores are kept, \n",
    "#and From the 10(can be changed) best candidates 18 children are created with the crossover Function according to the function :\n",
    "# ABCD and EFGH gives ABGH, EFCD,  \n",
    "#each gene can be mutated with Pm probability, \n",
    "#for example if the chromosome has a length of 100 and the probability for a gene to mutate is\n",
    "#Pm = 0.02 there will an average of 2 genes mutated, can be lower or higher depends of the value of Pm\n",
    "#***********------------------------------------------------------------\n",
    "#FINALLY, we obtain a new population composed of Chrildren Chromosome and \n",
    "#the 2 best Chromosomes from the former population and each\n",
    "#chromosome could be mutated (depending of Pm)\n",
    "#Then the new population will have a new iteration etc....."
   ]
  },
  {
   "cell_type": "code",
   "execution_count": null,
   "metadata": {},
   "outputs": [],
   "source": [
    "#NEW ALGO split avec duplicate CROSSOVER SINGLE POINT\n",
    "#MAIN LOOP\n",
    "population = np.array([]) #initialization of the population array\n",
    "X_opti = np.array([]) #initialization of X axis for the graph\n",
    "Y_opti = np.array([]) #initialization of Y axis for the graph\n",
    "fitMax = 0\n",
    "#CREATION OF THE INITIAL POPULATION\n",
    "for i in range(0, 100):\n",
    "    tmpNode = np.random.choice(insideParis.indexStation, 80, replace=False)\n",
    "    tmpC = Chromosome(tmpNode)\n",
    "    population = np.append(population, tmpC)\n",
    "#MAIN LOOP here population evolved continuously with crossovers and mutations\n",
    "#NUMBER OF ITERATION z\n",
    "for z in range(0,200):\n",
    "    fitList = np.array([])\n",
    "    \n",
    "    #fitList = array of the score of the population\n",
    "    for i in range(0,len(population)):\n",
    "        fitList = np.append(fitList, NewNameFit2(insideParis.nameStation, population[i], shortestMulti, insideParis.indexStation))\n",
    "        if fitList[i] > fitMax:\n",
    "            fitMax = fitList[i]\n",
    "            bestSolution = population[i] #selection of the best candidate\n",
    "    if fitMax > 0.999:\n",
    "            break\n",
    "    #select the 10 best chromosomes according to their scores, \n",
    "    #the array is ordered from higher to lower score, give 18 children\n",
    "    IndexfitBest = heapq.nlargest(10, range(len(fitList)), fitList.take)\n",
    "    population_best = np.take(population, IndexfitBest)\n",
    "    \n",
    "    #initialization of the new population with 2 best scored chromosomes\n",
    "    child = np.array([population_best[0], population_best[1]]) #2 best chromosomes kept\n",
    "    \n",
    "    #Creation of the children :\n",
    "    for u in range(1, len(population_best)):\n",
    "        crossChr1 = Chromosome(crossoverSinglePoint(population_best[u-1], population_best[u]))\n",
    "        crossChr2 = Chromosome(crossoverSinglePoint(population_best[u], population_best[u-1]))\n",
    "        child = np.append(child, crossChr1)\n",
    "        child = np.append(child, crossChr2)\n",
    "    population = child\n",
    "    \n",
    "    #Mutation\n",
    "    for mutIter in range(0, len(population)-1):\n",
    "        rand = random.random()\n",
    "        if rand < 1:\n",
    "            population[mutIter].mutationGene(0.02, insideParis.indexStation) # a mutation has 10% chance to occur\n",
    "    print(np.max(fitList)) #Print the best score of the best candidate\n",
    "    X_opti = np.append(X_opti, z) #keep track of iterations\n",
    "    Y_opti = np.append(Y_opti, np.max(fitList)) #keep track of the best score obtained\n",
    "print(bestSolution)\n",
    "print(population)\n"
   ]
  },
  {
   "cell_type": "code",
   "execution_count": null,
   "metadata": {},
   "outputs": [],
   "source": [
    "#Thanks to X_opti and Y_opti we can draw the graph\n",
    "#With the number of iterations on the X axis and the number of different stations visited on the Y axis\n",
    "plt.plot(X_opti, Y_opti * 242) #Y axis = maximum name visited\n",
    "plt.show()"
   ]
  },
  {
   "cell_type": "code",
   "execution_count": null,
   "metadata": {},
   "outputs": [],
   "source": [
    "fitList"
   ]
  },
  {
   "cell_type": "code",
   "execution_count": null,
   "metadata": {},
   "outputs": [],
   "source": [
    "print(PathwayDuration(population[1],shortestMulti, df )/3600)"
   ]
  },
  {
   "cell_type": "code",
   "execution_count": null,
   "metadata": {},
   "outputs": [],
   "source": [
    "\n",
    "population[0].pathWay(shortestMulti)\n"
   ]
  },
  {
   "cell_type": "code",
   "execution_count": null,
   "metadata": {},
   "outputs": [],
   "source": [
    "NewNameFit2(insideParis.nameStation,bestSolution, shortestMulti, insideParis.indexStation)"
   ]
  },
  {
   "cell_type": "code",
   "execution_count": null,
   "metadata": {},
   "outputs": [],
   "source": []
  }
 ],
 "metadata": {
  "kernelspec": {
   "display_name": "Python 3",
   "language": "python",
   "name": "python3"
  },
  "language_info": {
   "codemirror_mode": {
    "name": "ipython",
    "version": 3
   },
   "file_extension": ".py",
   "mimetype": "text/x-python",
   "name": "python",
   "nbconvert_exporter": "python",
   "pygments_lexer": "ipython3",
   "version": "3.6.4"
  }
 },
 "nbformat": 4,
 "nbformat_minor": 2
}
