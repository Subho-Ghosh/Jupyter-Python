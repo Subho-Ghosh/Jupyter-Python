{
 "cells": [
  {
   "cell_type": "markdown",
   "metadata": {},
   "source": [
    "jupyter notebook --NotebookApp.iopub_data_rate_limit=10000000"
   ]
  },
  {
   "cell_type": "code",
   "execution_count": null,
   "metadata": {},
   "outputs": [],
   "source": [
    "import networkx as nx\n",
    "import numpy as np\n",
    "import pandas as pd\n",
    "import time\n",
    "import matplotlib.pyplot as plt\n",
    "import random\n",
    "import copy\n",
    "import heapq"
   ]
  },
  {
   "cell_type": "code",
   "execution_count": null,
   "metadata": {},
   "outputs": [],
   "source": [
    "df = pd.read_csv('C:/Projects IT/Python/Projet Metaheuristic/project.csv', sep =';')\n",
    "nameTable = pd.read_csv('C:/Projects IT/Python/Projet Metaheuristic/indexStation.csv', sep =';')\n",
    "\n",
    "df.head(3)"
   ]
  },
  {
   "cell_type": "code",
   "execution_count": null,
   "metadata": {},
   "outputs": [],
   "source": [
    "nameTable.head(3)"
   ]
  },
  {
   "cell_type": "code",
   "execution_count": null,
   "metadata": {},
   "outputs": [],
   "source": [
    "MG = nx.MultiGraph()"
   ]
  },
  {
   "cell_type": "code",
   "execution_count": null,
   "metadata": {},
   "outputs": [],
   "source": [
    "for i in range(0, len(df.Station)):\n",
    "    MG.add_edge(df.Station[i], df.Connection[i], weight=df.Time[i])"
   ]
  },
  {
   "cell_type": "code",
   "execution_count": null,
   "metadata": {},
   "outputs": [],
   "source": [
    "MG"
   ]
  },
  {
   "cell_type": "code",
   "execution_count": null,
   "metadata": {},
   "outputs": [],
   "source": [
    "print(MG.adj)"
   ]
  },
  {
   "cell_type": "code",
   "execution_count": null,
   "metadata": {},
   "outputs": [],
   "source": [
    "nx.draw(MG, label=True)\n",
    "plt.show()"
   ]
  },
  {
   "cell_type": "code",
   "execution_count": null,
   "metadata": {},
   "outputs": [],
   "source": [
    "shortestMulti = nx.johnson(MG)"
   ]
  },
  {
   "cell_type": "code",
   "execution_count": null,
   "metadata": {},
   "outputs": [],
   "source": [
    "class Chromosome:\n",
    "    def __init__(self, nodes):\n",
    "        self.nodes = nodes       \n",
    "    \n",
    "    def shuffleGenes(self):\n",
    "        random.shuffle(self.nodes)   \n",
    "    \n",
    "    #Order Changing Mutation, 1 gene is selected thanks to Pm probability then swapped with the other node(cant duplicate)\n",
    "    def mutationGene(self, Pm):\n",
    "        self.Pm = Pm\n",
    "        for i in range(0, len(self.nodes)):\n",
    "            self.randMutate = random.random()\n",
    "            if self.randMutate < self.Pm:\n",
    "                self.mutateTo = random.randint(0,len(self.nodes)-1)\n",
    "                self.tmpGene = copy.copy(self.nodes[i])\n",
    "                self.nodes = np.where(self.nodes == self.mutateTo, self.tmpGene, self.nodes)\n",
    "                self.nodes[i] = self.mutateTo\n",
    "\n",
    "    def pathWay(self, Multigraph): #Multigraph come from the Johnson Networkx calculation for shortest path between 2 nodes\n",
    "        self.Multigraph = Multigraph\n",
    "        self.totalPath = []\n",
    "        for i in range(0, len(self.nodes)-1):        \n",
    "            if i+1 is not None:\n",
    "                self.totalPath = merge(self.totalPath, self.Multigraph[self.nodes[i]][self.nodes[i+1]])   \n",
    "        return self.totalPath\n",
    "        \n",
    "    def __repr__(self):\n",
    "        self.strNodes = \"Chromosome :\"\n",
    "        for i in self.nodes:\n",
    "            self.node = str(i)\n",
    "            self.strNodes = self.strNodes + \"|\" + self.node\n",
    "        self.strNodes = self.strNodes + \"|\"\n",
    "        return self.strNodes"
   ]
  },
  {
   "cell_type": "code",
   "execution_count": null,
   "metadata": {},
   "outputs": [],
   "source": [
    "#Crossover PErmutation Encoding (1)ABC DEF + (2)DAB CFE --> ABC(1) DFE (in the order of the 2d chromosome genes)\n",
    "def crossoverPermutation(chromo1, chromo2):\n",
    "    lenChromo = int(len(chromo1.nodes) / 2)\n",
    "    childrenChr = chromo1.nodes[0:lenChromo]\n",
    "    for i in chromo2.nodes:\n",
    "        if i not in childrenChr:\n",
    "            childrenChr = np.append(childrenChr, [i])\n",
    "    return childrenChr\n",
    "    "
   ]
  },
  {
   "cell_type": "code",
   "execution_count": null,
   "metadata": {},
   "outputs": [],
   "source": [
    "def populationGeneration(popsize, nodeList):\n",
    "    populationOpti = []\n",
    "    for i in range(0,popsize,1):\n",
    "        nodeList = np.unique(nodeList, axis=0)\n",
    "        random.shuffle(nodeList)\n",
    "        populationOpti = populationOpti + [Chromosome(nodeList)]\n",
    "    return populationOpti"
   ]
  },
  {
   "cell_type": "code",
   "execution_count": null,
   "metadata": {},
   "outputs": [],
   "source": [
    "#function can merge 2 list where last element of one(a) is the first element of the second(b)\n",
    "#for example [1,2,3,4] + [4,5,6] = [1,2,3,4,5,6]\n",
    "def merge(a, b):\n",
    "    c = a[:-1] + b[:]\n",
    "    return c\n",
    "    "
   ]
  },
  {
   "cell_type": "code",
   "execution_count": null,
   "metadata": {},
   "outputs": [],
   "source": [
    "def fitnessScore(uniqueNodeList, chromosome, MultiG):\n",
    "    fitScore = len(uniqueNodeList.unique()) / len(chromosome.pathWay(MultiG))\n",
    "    return fitScore"
   ]
  },
  {
   "cell_type": "code",
   "execution_count": null,
   "metadata": {},
   "outputs": [],
   "source": [
    "def nameFit(uniqueNodeName, chromosome, MultiG):\n",
    "    NameList = np.array([])\n",
    "    for i in chromosome.pathWay(MultiG):\n",
    "        NameList = np.append(NameList, uniqueNodeName[i])\n",
    "    NameFreq = np.unique(NameList, return_counts=True)\n",
    "    NameFreq[1]\n",
    "    score = 1 / np.max(NameFreq[1])\n",
    "    return score"
   ]
  },
  {
   "cell_type": "code",
   "execution_count": null,
   "metadata": {},
   "outputs": [],
   "source": [
    "def nodesFit(chromosome, MultiG):\n",
    "    score = 1 / len(chromosome.pathWay(MultiG))\n",
    "    return score\n",
    "    "
   ]
  },
  {
   "cell_type": "code",
   "execution_count": null,
   "metadata": {},
   "outputs": [],
   "source": [
    "#MAIN LOOP\n",
    "population = populationGeneration(1000, df.Station)\n",
    "for globalLoob in range(0,5):\n",
    "    for z in range(0,10):\n",
    "        fitList = np.array([])\n",
    "        for i in range(0,len(population)):\n",
    "            fitList = np.append(fitList, nodesFit(population[i], shortestMulti))\n",
    "        IndexfitBest = heapq.nlargest(500, range(len(fitList)), fitList.take)\n",
    "        population_best = np.take(population, IndexfitBest)\n",
    "        child = np.array([Chromosome(crossoverPermutation(population_best[0], population_best[1]))])\n",
    "        for u in range(1, len(population_best)):\n",
    "            child = np.append(child, Chromosome(crossoverPermutation(population_best[u-1], population_best[u])))\n",
    "        population = np.append(child, population_best)\n",
    "    for uu in range(0,len(population)-1):\n",
    "        population[uu].mutationGene(0.01)\n",
    "    print(fitList)\n",
    "    print(population[0])\n",
    "\n",
    "print(fitList)\n",
    "print(population)\n",
    "print(population_best)\n",
    "print(fitList)\n",
    "\n",
    "        \n",
    "        \n",
    "        \n",
    "    \n",
    "  "
   ]
  },
  {
   "cell_type": "code",
   "execution_count": null,
   "metadata": {},
   "outputs": [],
   "source": [
    "len(population[5].pathWay(shortestMulti))"
   ]
  },
  {
   "cell_type": "code",
   "execution_count": null,
   "metadata": {
    "scrolled": false
   },
   "outputs": [],
   "source": [
    "population"
   ]
  },
  {
   "cell_type": "code",
   "execution_count": null,
   "metadata": {},
   "outputs": [],
   "source": []
  }
 ],
 "metadata": {
  "kernelspec": {
   "display_name": "Python 3",
   "language": "python",
   "name": "python3"
  },
  "language_info": {
   "codemirror_mode": {
    "name": "ipython",
    "version": 3
   },
   "file_extension": ".py",
   "mimetype": "text/x-python",
   "name": "python",
   "nbconvert_exporter": "python",
   "pygments_lexer": "ipython3",
   "version": "3.6.4"
  }
 },
 "nbformat": 4,
 "nbformat_minor": 2
}
