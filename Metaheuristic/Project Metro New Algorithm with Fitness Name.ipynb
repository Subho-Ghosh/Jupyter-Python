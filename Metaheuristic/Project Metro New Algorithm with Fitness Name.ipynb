{
 "cells": [
  {
   "cell_type": "markdown",
   "metadata": {},
   "source": [
    "jupyter notebook --NotebookApp.iopub_data_rate_limit=10000000"
   ]
  },
  {
   "cell_type": "code",
   "execution_count": null,
   "metadata": {},
   "outputs": [],
   "source": [
    "import networkx as nx\n",
    "import numpy as np\n",
    "import pandas as pd\n",
    "import time\n",
    "import matplotlib.pyplot as plt\n",
    "import random\n",
    "import copy\n",
    "import heapq\n",
    "import math"
   ]
  },
  {
   "cell_type": "code",
   "execution_count": null,
   "metadata": {},
   "outputs": [],
   "source": [
    "df = pd.read_csv('C:/Projects IT/Python/Projet Metaheuristic/project.csv', sep =';')\n",
    "nameTable = pd.read_csv('C:/Projects IT/Python/Projet Metaheuristic/indexStation.csv', sep =';')\n",
    "\n",
    "df.head(3)"
   ]
  },
  {
   "cell_type": "code",
   "execution_count": null,
   "metadata": {},
   "outputs": [],
   "source": [
    "nameTable.head(3)"
   ]
  },
  {
   "cell_type": "code",
   "execution_count": null,
   "metadata": {},
   "outputs": [],
   "source": [
    "MG = nx.MultiGraph()"
   ]
  },
  {
   "cell_type": "code",
   "execution_count": null,
   "metadata": {},
   "outputs": [],
   "source": [
    "for i in range(0, len(df.Station)):\n",
    "    MG.add_edge(df.Station[i], df.Connection[i], weight=df.Time[i])"
   ]
  },
  {
   "cell_type": "code",
   "execution_count": null,
   "metadata": {},
   "outputs": [],
   "source": [
    "MG"
   ]
  },
  {
   "cell_type": "code",
   "execution_count": null,
   "metadata": {},
   "outputs": [],
   "source": [
    "print(MG.adj)"
   ]
  },
  {
   "cell_type": "code",
   "execution_count": null,
   "metadata": {},
   "outputs": [],
   "source": [
    "\n",
    "plt.figure(figsize=(12,12))\n",
    "nx.draw(MG, label=False)\n",
    "\n",
    "plt.show()"
   ]
  },
  {
   "cell_type": "code",
   "execution_count": null,
   "metadata": {},
   "outputs": [],
   "source": [
    "shortestMulti = nx.johnson(MG)"
   ]
  },
  {
   "cell_type": "code",
   "execution_count": null,
   "metadata": {},
   "outputs": [],
   "source": [
    "shortestMulti[1]"
   ]
  },
  {
   "cell_type": "code",
   "execution_count": null,
   "metadata": {},
   "outputs": [],
   "source": [
    "shortestMulti[0][1][0]"
   ]
  },
  {
   "cell_type": "code",
   "execution_count": null,
   "metadata": {},
   "outputs": [],
   "source": [
    "class Chromosome:\n",
    "    def __init__(self, nodes):\n",
    "        self.nodes = nodes\n",
    "        \n",
    "    \n",
    "    def shuffleGenes(self):\n",
    "        random.shuffle(self.nodes)   \n",
    "    \n",
    "    #Order Changing Mutation, 1 gene is selected thanks to Pm probability then swapped with the other node(cant duplicate)\n",
    "    def mutationGene(self, Pm):\n",
    "        self.Pm = Pm\n",
    "        for i in range(0, len(self.nodes)):\n",
    "            self.randMutate = random.random()\n",
    "            if self.randMutate < self.Pm:\n",
    "                self.mutateTo = random.randint(0,len(self.nodes)-1)\n",
    "                self.tmpGene = copy.copy(self.nodes[i])\n",
    "                self.nodes = np.where(self.nodes == self.mutateTo, self.tmpGene, self.nodes)\n",
    "                self.nodes[i] = self.mutateTo\n",
    "\n",
    "    def pathWay(self, Multigraph): #Multigraph come from the Johnson Networkx calculation for shortest path between 2 nodes\n",
    "        self.Multigraph = Multigraph\n",
    "        self.totalPath = []\n",
    "        for i in range(0, len(self.nodes)-1):        \n",
    "            if i+1 is not None:\n",
    "                self.totalPath = merge(self.totalPath, self.Multigraph[self.nodes[i]][self.nodes[i+1]])   \n",
    "        return self.totalPath\n",
    "        \n",
    "    def __repr__(self):\n",
    "        self.strNodes = \"Chromosome :\"\n",
    "        for i in self.nodes:\n",
    "            self.node = str(i)\n",
    "            self.strNodes = self.strNodes + \"|\" + self.node\n",
    "        self.strNodes = self.strNodes + \"|\"\n",
    "        return self.strNodes"
   ]
  },
  {
   "cell_type": "code",
   "execution_count": null,
   "metadata": {},
   "outputs": [],
   "source": [
    "#Crossover PErmutation Encoding (1)ABC DEF + (2)DAB CFE --> ABC(1) DFE (in the order of the 2d chromosome genes)\n",
    "def crossoverPermutation(chromo1, chromo2):\n",
    "    lenChromo = int(len(chromo1.nodes) / 2)\n",
    "    childrenChr = chromo1.nodes[0:lenChromo]\n",
    "    for i in chromo2.nodes:\n",
    "        if i not in childrenChr:\n",
    "            childrenChr = np.append(childrenChr, [i])\n",
    "    return childrenChr\n",
    "    "
   ]
  },
  {
   "cell_type": "code",
   "execution_count": null,
   "metadata": {},
   "outputs": [],
   "source": [
    "#Crossover PErmutation Encoding (1)ABC DEF + (2)DAB CFE --> ABC(1) DFE (in the order of the 2d chromosome genes)\n",
    "def crossoverSinglePoint(chromo1, chromo2):\n",
    "    lenChromo = int(len(chromo1.nodes) / 2)\n",
    "    childrenChr = np.append(chromo1.nodes[0:lenChromo], chromo2.nodes[lenChromo:len(chromo1.nodes)])\n",
    "    return childrenChr\n",
    "    "
   ]
  },
  {
   "cell_type": "code",
   "execution_count": null,
   "metadata": {},
   "outputs": [],
   "source": [
    "a = np.array([1,2,3,4,5,6,7,8,9,0])\n",
    "b = np.array([11,22,33,44,55,66,77,88,99,100])\n",
    "gen1 = Chromosome(a)\n",
    "gen2 = Chromosome(b)\n",
    "child = Chromosome(crossoverSinglePoint(gen2,gen1))\n",
    "child"
   ]
  },
  {
   "cell_type": "code",
   "execution_count": null,
   "metadata": {},
   "outputs": [],
   "source": [
    "def populationGenerationStart(popsize, nodeList, start):\n",
    "    populationOpti = np.array([])\n",
    "    for i in range(0,popsize,1):\n",
    "        nodeList = np.unique(nodeList, axis=0)\n",
    "        random.shuffle(nodeList)\n",
    "        nodeList = np.where(nodeList == start, nodeList[0], nodeList)\n",
    "        nodeList[0] = start\n",
    "        populationOpti = np.append(populationOpti, Chromosome(nodeList))\n",
    "    return populationOpti"
   ]
  },
  {
   "cell_type": "code",
   "execution_count": null,
   "metadata": {},
   "outputs": [],
   "source": [
    "def populationGenerationClassic(popsize, nodeList):\n",
    "    populationOpti = []\n",
    "    for i in range(0,popsize,1):\n",
    "        nodeList = np.unique(nodeList, axis=0)\n",
    "        random.shuffle(nodeList)\n",
    "        populationOpti = populationOpti + [Chromosome()]\n",
    "    return populationOpti"
   ]
  },
  {
   "cell_type": "code",
   "execution_count": null,
   "metadata": {},
   "outputs": [],
   "source": [
    "#function can merge 2 list where last element of one(a) is the first element of the second(b)\n",
    "#for example [1,2,3,4] + [4,5,6] = [1,2,3,4,5,6]\n",
    "def merge(a, b):\n",
    "    c = a[:-1] + b[:]\n",
    "    return c\n",
    "    "
   ]
  },
  {
   "cell_type": "code",
   "execution_count": null,
   "metadata": {},
   "outputs": [],
   "source": [
    "def NewFit(uniqueNodeList, chromosome, MultiG):\n",
    "    if len(chromosome.pathWay(MultiG)) < 1000:\n",
    "        fitScore = (len(np.unique(chromosome.pathWay(MultiG))) / (len(uniqueNodeList.unique())) )\n",
    "    else:\n",
    "        fitScore = 0\n",
    "    return fitScore\n",
    "    \n",
    "    "
   ]
  },
  {
   "cell_type": "code",
   "execution_count": null,
   "metadata": {},
   "outputs": [],
   "source": [
    "def NewTimeFit(uniqueNodeList, chromosome, MultiG):\n",
    "    if len(chromosome.pathWay(MultiG)) < 1500:\n",
    "        fitScore = (len(np.unique(chromosome.pathWay(MultiG))) / (len(uniqueNodeList.unique())) \n",
    "    else:\n",
    "        fitScore = 0\n",
    "    return fitScore"
   ]
  },
  {
   "cell_type": "code",
   "execution_count": null,
   "metadata": {},
   "outputs": [],
   "source": [
    "def NewNameFit(uniqueNodeName, chromosome, MultiG):\n",
    "    if len(chromosome.pathWay(MultiG)) < 1000:\n",
    "        NameList = np.array([])\n",
    "        for i in chromosome.pathWay(MultiG):\n",
    "            NameList = np.append(NameList, uniqueNodeName[i])\n",
    "        fitScore = len(np.unique(NameList)) / 296\n",
    "    else:\n",
    "        fitScore = 0\n",
    "    return fitScore\n",
    "    \n",
    "    "
   ]
  },
  {
   "cell_type": "code",
   "execution_count": null,
   "metadata": {},
   "outputs": [],
   "source": []
  },
  {
   "cell_type": "code",
   "execution_count": null,
   "metadata": {},
   "outputs": [],
   "source": [
    "def fitnessScore(uniqueNodeList, chromosome, MultiG):\n",
    "    fitScore = len(uniqueNodeList.unique()) / len(chromosome.pathWay(MultiG))\n",
    "    return fitScore"
   ]
  },
  {
   "cell_type": "code",
   "execution_count": null,
   "metadata": {},
   "outputs": [],
   "source": []
  },
  {
   "cell_type": "code",
   "execution_count": null,
   "metadata": {},
   "outputs": [],
   "source": [
    "def nameFit(uniqueNodeName, chromosome, MultiG):\n",
    "    NameList = np.array([])\n",
    "    for i in chromosome.pathWay(MultiG):\n",
    "        NameList = np.append(NameList, uniqueNodeName[i])\n",
    "    NameFreq = np.unique(NameList, return_counts=True)\n",
    "    NameFreq = np.sort(NameFreq[1])\n",
    "    score =  296 / len(NameList)\n",
    "    return score"
   ]
  },
  {
   "cell_type": "code",
   "execution_count": null,
   "metadata": {},
   "outputs": [],
   "source": [
    "a = np.array(nameTable.nameStation)\n",
    "len(np.unique(a))"
   ]
  },
  {
   "cell_type": "code",
   "execution_count": null,
   "metadata": {},
   "outputs": [],
   "source": [
    "def nodesFit(chromosome, MultiG):\n",
    "    score = 1 / len(chromosome.pathWay(MultiG))\n",
    "    return score\n",
    "    "
   ]
  },
  {
   "cell_type": "code",
   "execution_count": null,
   "metadata": {},
   "outputs": [],
   "source": [
    "def betweenNodesFit(chromFct, MG):\n",
    "    scoreFinal = 0\n",
    "    for i in range(0, len(chromFct.nodes)-1):\n",
    "        if i+1 is not None:\n",
    "            lenEdges = len(MG[chromFct.nodes[i]][chromFct.nodes[i+1]])\n",
    "            scoreEdge = 1 / ((lenEdges)**2)\n",
    "            scoreFinal = scoreEdge + scoreFinal\n",
    "    return scoreFinal\n",
    "            "
   ]
  },
  {
   "cell_type": "code",
   "execution_count": null,
   "metadata": {},
   "outputs": [],
   "source": [
    "'''\n",
    "def mainIterOptimization(popLocal, popsize, nbIter):\n",
    "    for z in range(0,nbIter):\n",
    "        fitList = np.array([])\n",
    "        for i in range(0,len(popLocal)):\n",
    "            fitList = np.append(fitList, fitnessScore(df.Station, popLocal[i], shortestMulti))\n",
    "        IndexfitBest = heapq.nlargest(int(popsize / 2), range(len(fitList)), fitList.take)\n",
    "        popLocal_best = np.take(popLocal, IndexfitBest)\n",
    "        child = np.array([Chromosome(crossoverPermutation(popLocal_best[0], popLocal_best[int(popsize/2) - 1]))])\n",
    "        for u in range(1, len(popLocal_best)):\n",
    "            crossChr = Chromosome(crossoverPermutation(popLocal_best[u-1], popLocal_best[u]))\n",
    "            if crossChr not in child:\n",
    "                child = np.append(child, crossChr)\n",
    "            else:\n",
    "                crossChr.mutationGene(0.2)\n",
    "                child = np.append(child, crossChr)\n",
    "        popLocal = np.append(child, popLocal_best)\n",
    "        for mutIter in range(0, len(popLocal)-1):\n",
    "            rand = random.random()\n",
    "            if rand < 0.2:\n",
    "                popLocal[mutIter].mutationGene(0.1)\n",
    "    return popLocal[1]\n",
    "'''"
   ]
  },
  {
   "cell_type": "code",
   "execution_count": null,
   "metadata": {},
   "outputs": [],
   "source": [
    "fitList = np.array([])\n",
    "for i in range(0,len(newNewnewPop)):\n",
    "            fitList = np.append(fitList, fitnessScore(df.Station, newNewnewPop[i], shortestMulti))\n",
    "fitList"
   ]
  },
  {
   "cell_type": "code",
   "execution_count": null,
   "metadata": {},
   "outputs": [],
   "source": [
    "#station = 325 start,268\n",
    "#BEST 3611 nodes\n",
    "#MAIN LOOP\n",
    "population = ([])\n",
    "startGene = 268\n",
    "\n",
    "FirstFitList = np.array([])\n",
    "\n",
    "for i in range(0, 100):\n",
    "    tmpNode = np.random.randint(375, size = (50))\n",
    "    tmpNode[0] = startGene\n",
    "    tmpC = Chromosome(tmpNode)\n",
    "    population = np.append(population, tmpC)\n",
    "    FirstFitList = np.append(FirstFitList, NewNameFit(nameTable.nameStation, population[i], shortestMulti))\n",
    "print(FirstFitList)\n",
    "X_opti = np.array([0])\n",
    "Y_opti = np.array([np.max(FirstFitList)])\n",
    "for z in range(0,50000):\n",
    "    fitList = np.array([])\n",
    "    for i in range(0,len(population)):\n",
    "        fitList = np.append(fitList, NewNameFit(nameTable.nameStation, population[i], shortestMulti))\n",
    "    IndexfitBest = heapq.nlargest(10, range(len(fitList)), fitList.take)\n",
    "    population_best = np.take(population, IndexfitBest)\n",
    "    child = np.array([Chromosome(crossoverPermutation(population_best[0], population_best[9]))])\n",
    "    for u in range(1, len(population_best)):\n",
    "        crossChr = Chromosome(crossoverPermutation(population_best[u-1], population_best[u]))\n",
    "        if crossChr not in child:\n",
    "            child = np.append(child, crossChr)\n",
    "        elif NewFit(df.Station, population_best[u], shortestMulti) < 0.1:\n",
    "            crossChr.mutationGene(1)\n",
    "            child = np.append(child, crossChr)\n",
    "        else:\n",
    "            crossChr.mutationGene(0.05)\n",
    "            child = np.append(child, crossChr)\n",
    "            #child = np.append(child, Chromosome(df.Station).shuffleGenes())\n",
    "    population = np.append(child, population_best)\n",
    "    for mutIter in range(0, len(population)-1):\n",
    "        rand = random.random()\n",
    "        if rand < 0.2:\n",
    "            population[mutIter].mutationGene(0.05)\n",
    "   # bestChromoIter = population[1]\n",
    "   # newPopulation = np.append(newPopulation,bestChromoIter)\n",
    "    print(np.max(fitList))\n",
    "    X_opti = np.append(X_opti, z)\n",
    "    Y_opti = np.append(Y_opti, np.max(fitList))\n",
    "\n",
    "print(newPopulation)\n"
   ]
  },
  {
   "cell_type": "code",
   "execution_count": null,
   "metadata": {},
   "outputs": [],
   "source": [
    "for i in range(0,5):\n",
    "    print(i)"
   ]
  },
  {
   "cell_type": "code",
   "execution_count": null,
   "metadata": {},
   "outputs": [],
   "source": [
    "#NEW ALGO split avec duplicate CROSSOVER SINGLE POINT\n",
    "#MAIN LOOP\n",
    "population = np.array([])\n",
    "#startGene = 268\n",
    "X_opti = np.array([])\n",
    "Y_opti = np.array([])\n",
    "\n",
    "for i in range(0, 50):\n",
    "    tmpNode = np.random.randint(375, size = (50))\n",
    "    #tmpNode[0] = startGene\n",
    "    #print(tmpNode)\n",
    "    tmpC = Chromosome(tmpNode)\n",
    "    population = np.append(population, tmpC)\n",
    "    \n",
    "for z in range(0,50000):\n",
    "    fitList = np.array([])\n",
    "    for i in range(0,len(population)):\n",
    "        fitList = np.append(fitList, NewNameFit(nameTable.nameStation, population[i], shortestMulti))\n",
    "    IndexfitBest = heapq.nlargest(20, range(len(fitList)), fitList.take)\n",
    "    population_best = np.take(population, IndexfitBest)\n",
    "    child = np.array([population_best[0], population_best[1]]) #2 best chromosomes kept\n",
    "    for u in range(1, len(population_best)):\n",
    "        crossChr1 = Chromosome(crossoverSinglePoint(population_best[u-1], population_best[u]))\n",
    "        crossChr2 = Chromosome(crossoverSinglePoint(population_best[u], population_best[u-1]))\n",
    "        child = np.append(child, crossChr1)\n",
    "        child = np.append(child, crossChr2)\n",
    "    population = child\n",
    "    for mutIter in range(0, len(population)-1):\n",
    "        rand = random.random()\n",
    "        if rand < 0.2:\n",
    "            population[mutIter].mutationGene(0.1)\n",
    "   # bestChromoIter = population[1]\n",
    "   # newPopulation = np.append(newPopulation,bestChromoIter)\n",
    "    print(np.max(fitList))\n",
    "    X_opti = np.append(X_opti, z)\n",
    "    Y_opti = np.append(Y_opti, np.max(fitList))\n",
    "\n",
    "print(newPopulation)\n"
   ]
  },
  {
   "cell_type": "code",
   "execution_count": null,
   "metadata": {},
   "outputs": [],
   "source": [
    "X_opti"
   ]
  },
  {
   "cell_type": "code",
   "execution_count": null,
   "metadata": {},
   "outputs": [],
   "source": [
    "plt.plot(X_opti, Y_opti)\n",
    "plt.show()"
   ]
  },
  {
   "cell_type": "code",
   "execution_count": null,
   "metadata": {},
   "outputs": [],
   "source": [
    "len(population_best[0].pathWay(shortestMulti))"
   ]
  },
  {
   "cell_type": "code",
   "execution_count": null,
   "metadata": {},
   "outputs": [],
   "source": [
    "len(np.unique(population_best[0].pathWay(shortestMulti)))"
   ]
  },
  {
   "cell_type": "code",
   "execution_count": null,
   "metadata": {},
   "outputs": [],
   "source": [
    "13 * 27\n",
    "\n"
   ]
  },
  {
   "cell_type": "code",
   "execution_count": null,
   "metadata": {},
   "outputs": [],
   "source": []
  }
 ],
 "metadata": {
  "kernelspec": {
   "display_name": "Python 3",
   "language": "python",
   "name": "python3"
  },
  "language_info": {
   "codemirror_mode": {
    "name": "ipython",
    "version": 3
   },
   "file_extension": ".py",
   "mimetype": "text/x-python",
   "name": "python",
   "nbconvert_exporter": "python",
   "pygments_lexer": "ipython3",
   "version": "3.6.4"
  }
 },
 "nbformat": 4,
 "nbformat_minor": 2
}
